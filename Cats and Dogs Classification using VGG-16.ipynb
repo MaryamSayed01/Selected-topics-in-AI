{
 "cells": [
  {
   "cell_type": "code",
   "execution_count": 2,
   "metadata": {
    "_cell_guid": "b1076dfc-b9ad-4769-8c92-a6c4dae69d19",
    "_uuid": "8f2839f25d086af736a60e9eeb907d3b93b6e0e5",
    "collapsed": true,
    "execution": {
     "iopub.execute_input": "2022-12-07T15:21:59.810561Z",
     "iopub.status.busy": "2022-12-07T15:21:59.810207Z",
     "iopub.status.idle": "2022-12-07T15:22:15.954591Z",
     "shell.execute_reply": "2022-12-07T15:22:15.953202Z",
     "shell.execute_reply.started": "2022-12-07T15:21:59.810530Z"
    },
    "jupyter": {
     "outputs_hidden": true
    },
    "tags": []
   },
   "outputs": [
    {
     "name": "stderr",
     "output_type": "stream",
     "text": [
      "2022-12-07 15:22:10.063168: I tensorflow/stream_executor/cuda/cuda_gpu_executor.cc:937] successful NUMA node read from SysFS had negative value (-1), but there must be at least one NUMA node, so returning NUMA node zero\n",
      "2022-12-07 15:22:10.064150: I tensorflow/stream_executor/cuda/cuda_gpu_executor.cc:937] successful NUMA node read from SysFS had negative value (-1), but there must be at least one NUMA node, so returning NUMA node zero\n",
      "2022-12-07 15:22:10.405422: I tensorflow/stream_executor/cuda/cuda_gpu_executor.cc:937] successful NUMA node read from SysFS had negative value (-1), but there must be at least one NUMA node, so returning NUMA node zero\n",
      "2022-12-07 15:22:10.406696: I tensorflow/stream_executor/cuda/cuda_gpu_executor.cc:937] successful NUMA node read from SysFS had negative value (-1), but there must be at least one NUMA node, so returning NUMA node zero\n",
      "2022-12-07 15:22:10.407831: I tensorflow/stream_executor/cuda/cuda_gpu_executor.cc:937] successful NUMA node read from SysFS had negative value (-1), but there must be at least one NUMA node, so returning NUMA node zero\n",
      "2022-12-07 15:22:10.408972: I tensorflow/stream_executor/cuda/cuda_gpu_executor.cc:937] successful NUMA node read from SysFS had negative value (-1), but there must be at least one NUMA node, so returning NUMA node zero\n",
      "2022-12-07 15:22:10.411584: I tensorflow/core/platform/cpu_feature_guard.cc:142] This TensorFlow binary is optimized with oneAPI Deep Neural Network Library (oneDNN) to use the following CPU instructions in performance-critical operations:  AVX2 AVX512F FMA\n",
      "To enable them in other operations, rebuild TensorFlow with the appropriate compiler flags.\n",
      "2022-12-07 15:22:10.734301: I tensorflow/stream_executor/cuda/cuda_gpu_executor.cc:937] successful NUMA node read from SysFS had negative value (-1), but there must be at least one NUMA node, so returning NUMA node zero\n",
      "2022-12-07 15:22:10.735493: I tensorflow/stream_executor/cuda/cuda_gpu_executor.cc:937] successful NUMA node read from SysFS had negative value (-1), but there must be at least one NUMA node, so returning NUMA node zero\n",
      "2022-12-07 15:22:10.736689: I tensorflow/stream_executor/cuda/cuda_gpu_executor.cc:937] successful NUMA node read from SysFS had negative value (-1), but there must be at least one NUMA node, so returning NUMA node zero\n",
      "2022-12-07 15:22:10.737820: I tensorflow/stream_executor/cuda/cuda_gpu_executor.cc:937] successful NUMA node read from SysFS had negative value (-1), but there must be at least one NUMA node, so returning NUMA node zero\n",
      "2022-12-07 15:22:10.738639: I tensorflow/stream_executor/cuda/cuda_gpu_executor.cc:937] successful NUMA node read from SysFS had negative value (-1), but there must be at least one NUMA node, so returning NUMA node zero\n",
      "2022-12-07 15:22:10.739451: I tensorflow/stream_executor/cuda/cuda_gpu_executor.cc:937] successful NUMA node read from SysFS had negative value (-1), but there must be at least one NUMA node, so returning NUMA node zero\n",
      "2022-12-07 15:22:15.251158: I tensorflow/stream_executor/cuda/cuda_gpu_executor.cc:937] successful NUMA node read from SysFS had negative value (-1), but there must be at least one NUMA node, so returning NUMA node zero\n",
      "2022-12-07 15:22:15.252028: I tensorflow/stream_executor/cuda/cuda_gpu_executor.cc:937] successful NUMA node read from SysFS had negative value (-1), but there must be at least one NUMA node, so returning NUMA node zero\n",
      "2022-12-07 15:22:15.252797: I tensorflow/stream_executor/cuda/cuda_gpu_executor.cc:937] successful NUMA node read from SysFS had negative value (-1), but there must be at least one NUMA node, so returning NUMA node zero\n",
      "2022-12-07 15:22:15.253509: I tensorflow/stream_executor/cuda/cuda_gpu_executor.cc:937] successful NUMA node read from SysFS had negative value (-1), but there must be at least one NUMA node, so returning NUMA node zero\n",
      "2022-12-07 15:22:15.254212: I tensorflow/stream_executor/cuda/cuda_gpu_executor.cc:937] successful NUMA node read from SysFS had negative value (-1), but there must be at least one NUMA node, so returning NUMA node zero\n",
      "2022-12-07 15:22:15.254888: I tensorflow/core/common_runtime/gpu/gpu_device.cc:1510] Created device /job:localhost/replica:0/task:0/device:GPU:0 with 13789 MB memory:  -> device: 0, name: Tesla T4, pci bus id: 0000:00:04.0, compute capability: 7.5\n",
      "2022-12-07 15:22:15.259439: I tensorflow/stream_executor/cuda/cuda_gpu_executor.cc:937] successful NUMA node read from SysFS had negative value (-1), but there must be at least one NUMA node, so returning NUMA node zero\n",
      "2022-12-07 15:22:15.260170: I tensorflow/core/common_runtime/gpu/gpu_device.cc:1510] Created device /job:localhost/replica:0/task:0/device:GPU:1 with 13789 MB memory:  -> device: 1, name: Tesla T4, pci bus id: 0000:00:05.0, compute capability: 7.5\n"
     ]
    }
   ],
   "source": [
    "import keras,os\n",
    "from keras.models import Sequential\n",
    "from keras.layers import Dense, Conv2D, MaxPool2D , Flatten\n",
    "model = Sequential()\n",
    "model.add(Conv2D(input_shape=(224,224,3),filters=64,kernel_size=(3,3),padding=\"same\", activation=\"relu\"))\n",
    "model.add(Conv2D(filters=64,kernel_size=(3,3),padding=\"same\", activation=\"relu\"))\n",
    "model.add(MaxPool2D(pool_size=(2,2),strides=(2,2)))\n",
    "model.add(Conv2D(filters=128, kernel_size=(3,3), padding=\"same\", activation=\"relu\"))\n",
    "model.add(Conv2D(filters=128, kernel_size=(3,3), padding=\"same\", activation=\"relu\"))\n",
    "model.add(MaxPool2D(pool_size=(2,2),strides=(2,2)))\n",
    "model.add(Conv2D(filters=256, kernel_size=(3,3), padding=\"same\", activation=\"relu\"))\n",
    "model.add(Conv2D(filters=256, kernel_size=(3,3), padding=\"same\", activation=\"relu\"))\n",
    "model.add(Conv2D(filters=256, kernel_size=(3,3), padding=\"same\", activation=\"relu\"))\n",
    "model.add(MaxPool2D(pool_size=(2,2),strides=(2,2)))\n",
    "model.add(Conv2D(filters=512, kernel_size=(3,3), padding=\"same\", activation=\"relu\"))\n",
    "model.add(Conv2D(filters=512, kernel_size=(3,3), padding=\"same\", activation=\"relu\"))\n",
    "model.add(Conv2D(filters=512, kernel_size=(3,3), padding=\"same\", activation=\"relu\"))\n",
    "model.add(MaxPool2D(pool_size=(2,2),strides=(2,2)))\n",
    "model.add(Conv2D(filters=512, kernel_size=(3,3), padding=\"same\", activation=\"relu\"))\n",
    "model.add(Conv2D(filters=512, kernel_size=(3,3), padding=\"same\", activation=\"relu\"))\n",
    "model.add(Conv2D(filters=512, kernel_size=(3,3), padding=\"same\", activation=\"relu\"))\n",
    "model.add(MaxPool2D(pool_size=(2,2),strides=(2,2)))\n",
    "model.add(Flatten())\n",
    "model.add(Dense(units=4096,activation=\"relu\"))\n",
    "model.add(Dense(units=4096,activation=\"relu\"))\n",
    "model.add(Dense(units=1, activation=\"sigmoid\")) "
   ]
  },
  {
   "cell_type": "code",
   "execution_count": 3,
   "metadata": {
    "execution": {
     "iopub.execute_input": "2022-12-07T15:22:15.957057Z",
     "iopub.status.busy": "2022-12-07T15:22:15.956670Z",
     "iopub.status.idle": "2022-12-07T15:22:16.547442Z",
     "shell.execute_reply": "2022-12-07T15:22:16.546445Z",
     "shell.execute_reply.started": "2022-12-07T15:22:15.957021Z"
    }
   },
   "outputs": [],
   "source": [
    "from keras.models import Sequential\n",
    "from keras.layers import Convolution2D, MaxPooling2D\n",
    "from keras.layers import Dense, Dropout, Activation, Flatten\n",
    "from tensorflow.keras.optimizers import Adam\n",
    "from tensorflow.keras.optimizers import SGD \n",
    "from tensorflow.keras.optimizers import Adamax \n",
    "from keras.callbacks import ReduceLROnPlateau\n",
    "from tensorflow.keras.layers import Conv2D,Flatten,Dense,MaxPooling2D\n",
    "model.compile(optimizer=SGD(learning_rate=0.08, momentum=0.0,\n",
    "            nesterov=False, name=\"SGD\"),\n",
    "          loss='binary_crossentropy',metrics=['accuracy'])"
   ]
  },
  {
   "cell_type": "code",
   "execution_count": 4,
   "metadata": {
    "execution": {
     "iopub.execute_input": "2022-12-07T15:22:16.549383Z",
     "iopub.status.busy": "2022-12-07T15:22:16.549003Z",
     "iopub.status.idle": "2022-12-07T15:22:22.491976Z",
     "shell.execute_reply": "2022-12-07T15:22:22.490841Z",
     "shell.execute_reply.started": "2022-12-07T15:22:16.549342Z"
    }
   },
   "outputs": [
    {
     "name": "stdout",
     "output_type": "stream",
     "text": [
      "Found 8005 images belonging to 2 classes.\n",
      "Found 2023 images belonging to 2 classes.\n"
     ]
    }
   ],
   "source": [
    "train_path = '/kaggle/input/cat-and-dog/training_set/training_set'\n",
    "valid_path = '/kaggle/input/cat-and-dog/test_set/test_set'\n",
    "from keras.preprocessing.image import ImageDataGenerator\n",
    "\n",
    "train_datagen = ImageDataGenerator(rescale = 1./255,\n",
    "                                   shear_range = 0.2,\n",
    "                                   zoom_range = 0.2,\n",
    "                                   horizontal_flip = True)\n",
    "test_datagen = ImageDataGenerator(rescale = 1./255)\n",
    "training_set = train_datagen.flow_from_directory(train_path,\n",
    "                                                 target_size = (224, 224),\n",
    "                                                 batch_size = 16,\n",
    "                                                 class_mode = 'binary')\n",
    "test_set = test_datagen.flow_from_directory(valid_path,\n",
    "                                            target_size = (224, 224),\n",
    "                                            batch_size = 16,\n",
    "                                            class_mode = 'binary')"
   ]
  },
  {
   "cell_type": "code",
   "execution_count": 10,
   "metadata": {
    "execution": {
     "iopub.execute_input": "2022-12-07T17:37:41.264866Z",
     "iopub.status.busy": "2022-12-07T17:37:41.264491Z",
     "iopub.status.idle": "2022-12-07T19:47:35.337631Z",
     "shell.execute_reply": "2022-12-07T19:47:35.336709Z",
     "shell.execute_reply.started": "2022-12-07T17:37:41.264834Z"
    },
    "tags": []
   },
   "outputs": [
    {
     "name": "stdout",
     "output_type": "stream",
     "text": [
      "Epoch 1/50\n",
      "501/501 [==============================] - 156s 310ms/step - loss: 0.1257 - accuracy: 0.9502 - val_loss: 0.2912 - val_accuracy: 0.8848\n",
      "Epoch 2/50\n",
      "501/501 [==============================] - 155s 309ms/step - loss: 0.0927 - accuracy: 0.9676 - val_loss: 0.6245 - val_accuracy: 0.8547\n",
      "Epoch 3/50\n",
      "501/501 [==============================] - 155s 309ms/step - loss: 0.0930 - accuracy: 0.9648 - val_loss: 0.3822 - val_accuracy: 0.8735\n",
      "Epoch 4/50\n",
      "501/501 [==============================] - 155s 309ms/step - loss: 0.0905 - accuracy: 0.9645 - val_loss: 0.3535 - val_accuracy: 0.8893\n",
      "Epoch 5/50\n",
      "501/501 [==============================] - 154s 308ms/step - loss: 0.0807 - accuracy: 0.9714 - val_loss: 0.3023 - val_accuracy: 0.8878\n",
      "Epoch 6/50\n",
      "501/501 [==============================] - 155s 309ms/step - loss: 0.0764 - accuracy: 0.9721 - val_loss: 0.3483 - val_accuracy: 0.8843\n",
      "Epoch 7/50\n",
      "501/501 [==============================] - 155s 310ms/step - loss: 0.0751 - accuracy: 0.9728 - val_loss: 0.3091 - val_accuracy: 0.8962\n",
      "Epoch 8/50\n",
      "501/501 [==============================] - 154s 307ms/step - loss: 0.0651 - accuracy: 0.9740 - val_loss: 0.3816 - val_accuracy: 0.8977\n",
      "Epoch 9/50\n",
      "501/501 [==============================] - 154s 307ms/step - loss: 0.0576 - accuracy: 0.9799 - val_loss: 0.3863 - val_accuracy: 0.8932\n",
      "Epoch 10/50\n",
      "501/501 [==============================] - 154s 308ms/step - loss: 0.0725 - accuracy: 0.9740 - val_loss: 0.3994 - val_accuracy: 0.8685\n",
      "Epoch 11/50\n",
      "501/501 [==============================] - 157s 313ms/step - loss: 0.0551 - accuracy: 0.9806 - val_loss: 0.3503 - val_accuracy: 0.8972\n",
      "Epoch 12/50\n",
      "501/501 [==============================] - 155s 309ms/step - loss: 0.0539 - accuracy: 0.9803 - val_loss: 0.4171 - val_accuracy: 0.8868\n",
      "Epoch 13/50\n",
      "501/501 [==============================] - 154s 308ms/step - loss: 0.0541 - accuracy: 0.9805 - val_loss: 0.4428 - val_accuracy: 0.8927\n",
      "Epoch 14/50\n",
      "501/501 [==============================] - 155s 308ms/step - loss: 0.0506 - accuracy: 0.9808 - val_loss: 0.4772 - val_accuracy: 0.8833\n",
      "Epoch 15/50\n",
      "501/501 [==============================] - 154s 308ms/step - loss: 0.0478 - accuracy: 0.9821 - val_loss: 0.3974 - val_accuracy: 0.8977\n",
      "Epoch 16/50\n",
      "501/501 [==============================] - 154s 307ms/step - loss: 0.0422 - accuracy: 0.9846 - val_loss: 0.4634 - val_accuracy: 0.8883\n",
      "Epoch 17/50\n",
      "501/501 [==============================] - 155s 310ms/step - loss: 0.0486 - accuracy: 0.9836 - val_loss: 0.3519 - val_accuracy: 0.8977\n",
      "Epoch 18/50\n",
      "501/501 [==============================] - 155s 310ms/step - loss: 0.0347 - accuracy: 0.9874 - val_loss: 0.3554 - val_accuracy: 0.9076\n",
      "Epoch 19/50\n",
      "501/501 [==============================] - 155s 309ms/step - loss: 0.0976 - accuracy: 0.9711 - val_loss: 0.3523 - val_accuracy: 0.8927\n",
      "Epoch 20/50\n",
      "501/501 [==============================] - 155s 310ms/step - loss: 0.0473 - accuracy: 0.9825 - val_loss: 0.3715 - val_accuracy: 0.8759\n",
      "Epoch 21/50\n",
      "501/501 [==============================] - 154s 308ms/step - loss: 0.0470 - accuracy: 0.9836 - val_loss: 0.3463 - val_accuracy: 0.9016\n",
      "Epoch 22/50\n",
      "501/501 [==============================] - 156s 311ms/step - loss: 0.0382 - accuracy: 0.9875 - val_loss: 0.5273 - val_accuracy: 0.9046\n",
      "Epoch 23/50\n",
      "501/501 [==============================] - 156s 311ms/step - loss: 0.0447 - accuracy: 0.9845 - val_loss: 0.3609 - val_accuracy: 0.8987\n",
      "Epoch 24/50\n",
      "501/501 [==============================] - 154s 308ms/step - loss: 0.0334 - accuracy: 0.9884 - val_loss: 0.3814 - val_accuracy: 0.9036\n",
      "Epoch 25/50\n",
      "501/501 [==============================] - 154s 306ms/step - loss: 0.0378 - accuracy: 0.9879 - val_loss: 0.3638 - val_accuracy: 0.8977\n",
      "Epoch 26/50\n",
      "501/501 [==============================] - 153s 305ms/step - loss: 0.0342 - accuracy: 0.9861 - val_loss: 0.4581 - val_accuracy: 0.8883\n",
      "Epoch 27/50\n",
      "501/501 [==============================] - 153s 305ms/step - loss: 0.0362 - accuracy: 0.9880 - val_loss: 0.3245 - val_accuracy: 0.8962\n",
      "Epoch 28/50\n",
      "501/501 [==============================] - 153s 305ms/step - loss: 0.0247 - accuracy: 0.9921 - val_loss: 0.3808 - val_accuracy: 0.9046\n",
      "Epoch 29/50\n",
      "501/501 [==============================] - 153s 305ms/step - loss: 0.0272 - accuracy: 0.9909 - val_loss: 0.3807 - val_accuracy: 0.8977\n",
      "Epoch 30/50\n",
      "501/501 [==============================] - 153s 305ms/step - loss: 0.0200 - accuracy: 0.9929 - val_loss: 0.4059 - val_accuracy: 0.9051\n",
      "Epoch 31/50\n",
      "501/501 [==============================] - 153s 305ms/step - loss: 0.0992 - accuracy: 0.9625 - val_loss: 0.4891 - val_accuracy: 0.8819\n",
      "Epoch 32/50\n",
      "501/501 [==============================] - 153s 305ms/step - loss: 0.0355 - accuracy: 0.9873 - val_loss: 0.3509 - val_accuracy: 0.8952\n",
      "Epoch 33/50\n",
      "501/501 [==============================] - 152s 304ms/step - loss: 0.0254 - accuracy: 0.9919 - val_loss: 0.3805 - val_accuracy: 0.9021\n",
      "Epoch 34/50\n",
      "501/501 [==============================] - 152s 304ms/step - loss: 0.0244 - accuracy: 0.9901 - val_loss: 0.4817 - val_accuracy: 0.9061\n",
      "Epoch 35/50\n",
      "501/501 [==============================] - 152s 303ms/step - loss: 0.0287 - accuracy: 0.9905 - val_loss: 0.4197 - val_accuracy: 0.9081\n",
      "Epoch 36/50\n",
      "501/501 [==============================] - 153s 304ms/step - loss: 0.0248 - accuracy: 0.9910 - val_loss: 0.4686 - val_accuracy: 0.9021\n",
      "Epoch 37/50\n",
      "501/501 [==============================] - 153s 304ms/step - loss: 0.0504 - accuracy: 0.9835 - val_loss: 0.3125 - val_accuracy: 0.8913\n",
      "Epoch 38/50\n",
      "501/501 [==============================] - 152s 303ms/step - loss: 0.0375 - accuracy: 0.9883 - val_loss: 0.3858 - val_accuracy: 0.9026\n",
      "Epoch 39/50\n",
      "501/501 [==============================] - 152s 303ms/step - loss: 0.0288 - accuracy: 0.9889 - val_loss: 0.5184 - val_accuracy: 0.8838\n",
      "Epoch 40/50\n",
      "501/501 [==============================] - 152s 302ms/step - loss: 0.0345 - accuracy: 0.9894 - val_loss: 0.3651 - val_accuracy: 0.8977\n",
      "Epoch 41/50\n",
      "501/501 [==============================] - 153s 305ms/step - loss: 0.0234 - accuracy: 0.9926 - val_loss: 0.5092 - val_accuracy: 0.8913\n",
      "Epoch 42/50\n",
      "501/501 [==============================] - 152s 303ms/step - loss: 0.0218 - accuracy: 0.9918 - val_loss: 0.5780 - val_accuracy: 0.8977\n",
      "Epoch 43/50\n",
      "501/501 [==============================] - 153s 305ms/step - loss: 0.0322 - accuracy: 0.9894 - val_loss: 0.4025 - val_accuracy: 0.9071\n",
      "Epoch 44/50\n",
      "501/501 [==============================] - 154s 307ms/step - loss: 0.0212 - accuracy: 0.9924 - val_loss: 0.5188 - val_accuracy: 0.8759\n",
      "Epoch 45/50\n",
      "501/501 [==============================] - 154s 308ms/step - loss: 0.0253 - accuracy: 0.9910 - val_loss: 0.5760 - val_accuracy: 0.8838\n",
      "Epoch 46/50\n",
      "501/501 [==============================] - 154s 308ms/step - loss: 0.0161 - accuracy: 0.9950 - val_loss: 0.4730 - val_accuracy: 0.9051\n",
      "Epoch 47/50\n",
      "501/501 [==============================] - 155s 309ms/step - loss: 0.0100 - accuracy: 0.9966 - val_loss: 0.5434 - val_accuracy: 0.9155\n",
      "Epoch 48/50\n",
      "501/501 [==============================] - 156s 310ms/step - loss: 0.0259 - accuracy: 0.9916 - val_loss: 0.3169 - val_accuracy: 0.9061\n",
      "Epoch 49/50\n",
      "501/501 [==============================] - 155s 308ms/step - loss: 0.0153 - accuracy: 0.9951 - val_loss: 0.4477 - val_accuracy: 0.9051\n",
      "Epoch 50/50\n",
      "501/501 [==============================] - 155s 308ms/step - loss: 0.0278 - accuracy: 0.9914 - val_loss: 0.3910 - val_accuracy: 0.9036\n"
     ]
    }
   ],
   "source": [
    "r = model.fit(\n",
    "  training_set,  \n",
    "  validation_data=test_set,\n",
    "  epochs=50,\n",
    "  steps_per_epoch=len(training_set),\n",
    "  validation_steps=len(test_set)\n",
    ")"
   ]
  },
  {
   "cell_type": "code",
   "execution_count": 13,
   "metadata": {
    "execution": {
     "iopub.execute_input": "2022-12-07T20:23:05.790813Z",
     "iopub.status.busy": "2022-12-07T20:23:05.790395Z",
     "iopub.status.idle": "2022-12-07T20:23:07.684872Z",
     "shell.execute_reply": "2022-12-07T20:23:07.683398Z",
     "shell.execute_reply.started": "2022-12-07T20:23:05.790778Z"
    }
   },
   "outputs": [],
   "source": [
    "model.save('vgg-16_100e.h5')"
   ]
  },
  {
   "cell_type": "code",
   "execution_count": 14,
   "metadata": {
    "execution": {
     "iopub.execute_input": "2022-12-07T20:24:08.576543Z",
     "iopub.status.busy": "2022-12-07T20:24:08.575771Z",
     "iopub.status.idle": "2022-12-07T20:24:20.620798Z",
     "shell.execute_reply": "2022-12-07T20:24:20.619915Z",
     "shell.execute_reply.started": "2022-12-07T20:24:08.576508Z"
    }
   },
   "outputs": [
    {
     "name": "stdout",
     "output_type": "stream",
     "text": [
      "127/127 [==============================] - 12s 93ms/step - loss: 0.3910 - accuracy: 0.9036\n"
     ]
    },
    {
     "data": {
      "text/plain": [
       "[0.39095935225486755, 0.903608500957489]"
      ]
     },
     "execution_count": 14,
     "metadata": {},
     "output_type": "execute_result"
    }
   ],
   "source": [
    "model.evaluate(test_set)"
   ]
  }
 ],
 "metadata": {
  "kernelspec": {
   "display_name": "Python 3 (ipykernel)",
   "language": "python",
   "name": "python3"
  },
  "language_info": {
   "codemirror_mode": {
    "name": "ipython",
    "version": 3
   },
   "file_extension": ".py",
   "mimetype": "text/x-python",
   "name": "python",
   "nbconvert_exporter": "python",
   "pygments_lexer": "ipython3",
   "version": "3.9.13"
  },
  "widgets": {
   "application/vnd.jupyter.widget-state+json": {
    "state": {},
    "version_major": 2,
    "version_minor": 0
   }
  }
 },
 "nbformat": 4,
 "nbformat_minor": 4
}
