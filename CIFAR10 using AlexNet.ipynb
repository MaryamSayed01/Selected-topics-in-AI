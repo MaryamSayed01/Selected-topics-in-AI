{
 "cells": [
  {
   "cell_type": "code",
   "execution_count": 2,
   "metadata": {
    "_cell_guid": "b1076dfc-b9ad-4769-8c92-a6c4dae69d19",
    "_uuid": "8f2839f25d086af736a60e9eeb907d3b93b6e0e5",
    "execution": {
     "iopub.execute_input": "2022-12-08T03:09:56.873977Z",
     "iopub.status.busy": "2022-12-08T03:09:56.871145Z",
     "iopub.status.idle": "2022-12-08T03:09:57.809790Z",
     "shell.execute_reply": "2022-12-08T03:09:57.808706Z",
     "shell.execute_reply.started": "2022-12-08T03:09:56.873888Z"
    }
   },
   "outputs": [
    {
     "name": "stdout",
     "output_type": "stream",
     "text": [
      "((35000, 32, 32, 3), (35000, 1))\n",
      "((15000, 32, 32, 3), (15000, 1))\n",
      "((10000, 32, 32, 3), (10000, 1))\n"
     ]
    }
   ],
   "source": [
    "import tensorflow as tf\n",
    "from tensorflow import keras\n",
    "import matplotlib.pyplot as plt\n",
    "import numpy as np\n",
    "import os\n",
    "import time\n",
    "from keras.datasets import cifar10\n",
    "(x_train, y_train),(x_test, y_test)=cifar10.load_data()\n",
    "\n",
    "#Train-validation-test split\n",
    "from sklearn.model_selection import train_test_split\n",
    "x_train,x_val,y_train,y_val=train_test_split(x_train,y_train,test_size=.3)\n",
    "\n",
    "np.reshape(x_train, (-1, 32, 32, 3)) \n",
    "np.reshape(x_val, (-1, 32, 32, 3)) \n",
    "\n",
    "\n",
    "#Dimension of the CIFAR10 dataset\n",
    "print((x_train.shape,y_train.shape))\n",
    "print((x_val.shape,y_val.shape))\n",
    "print((x_test.shape,y_test.shape))"
   ]
  },
  {
   "cell_type": "code",
   "execution_count": 3,
   "metadata": {
    "execution": {
     "iopub.execute_input": "2022-12-08T03:10:14.450090Z",
     "iopub.status.busy": "2022-12-08T03:10:14.449727Z",
     "iopub.status.idle": "2022-12-08T03:10:15.003136Z",
     "shell.execute_reply": "2022-12-08T03:10:15.002066Z",
     "shell.execute_reply.started": "2022-12-08T03:10:14.450058Z"
    }
   },
   "outputs": [
    {
     "name": "stdout",
     "output_type": "stream",
     "text": [
      "((35000, 32, 32, 3), (35000, 10))\n",
      "((15000, 32, 32, 3), (15000, 10))\n",
      "((10000, 32, 32, 3), (10000, 10))\n"
     ]
    }
   ],
   "source": [
    "from tensorflow.keras.utils import to_categorical\n",
    "\n",
    "y_train=to_categorical(y_train)\n",
    "y_val=to_categorical(y_val)\n",
    "y_test=to_categorical(y_test)\n",
    "\n",
    "print((x_train.shape,y_train.shape))\n",
    "print((x_val.shape,y_val.shape))\n",
    "print((x_test.shape,y_test.shape))"
   ]
  },
  {
   "cell_type": "code",
   "execution_count": 4,
   "metadata": {
    "collapsed": true,
    "execution": {
     "iopub.execute_input": "2022-12-08T03:11:44.066974Z",
     "iopub.status.busy": "2022-12-08T03:11:44.066249Z",
     "iopub.status.idle": "2022-12-08T03:11:50.116815Z",
     "shell.execute_reply": "2022-12-08T03:11:50.114993Z",
     "shell.execute_reply.started": "2022-12-08T03:11:44.066935Z"
    },
    "jupyter": {
     "outputs_hidden": true
    }
   },
   "outputs": [
    {
     "name": "stderr",
     "output_type": "stream",
     "text": [
      "2022-12-08 03:11:44.237623: I tensorflow/stream_executor/cuda/cuda_gpu_executor.cc:937] successful NUMA node read from SysFS had negative value (-1), but there must be at least one NUMA node, so returning NUMA node zero\n",
      "2022-12-08 03:11:44.238661: I tensorflow/stream_executor/cuda/cuda_gpu_executor.cc:937] successful NUMA node read from SysFS had negative value (-1), but there must be at least one NUMA node, so returning NUMA node zero\n",
      "2022-12-08 03:11:44.531297: I tensorflow/stream_executor/cuda/cuda_gpu_executor.cc:937] successful NUMA node read from SysFS had negative value (-1), but there must be at least one NUMA node, so returning NUMA node zero\n",
      "2022-12-08 03:11:44.532203: I tensorflow/stream_executor/cuda/cuda_gpu_executor.cc:937] successful NUMA node read from SysFS had negative value (-1), but there must be at least one NUMA node, so returning NUMA node zero\n",
      "2022-12-08 03:11:44.533099: I tensorflow/stream_executor/cuda/cuda_gpu_executor.cc:937] successful NUMA node read from SysFS had negative value (-1), but there must be at least one NUMA node, so returning NUMA node zero\n",
      "2022-12-08 03:11:44.533932: I tensorflow/stream_executor/cuda/cuda_gpu_executor.cc:937] successful NUMA node read from SysFS had negative value (-1), but there must be at least one NUMA node, so returning NUMA node zero\n",
      "2022-12-08 03:11:44.535171: I tensorflow/core/platform/cpu_feature_guard.cc:142] This TensorFlow binary is optimized with oneAPI Deep Neural Network Library (oneDNN) to use the following CPU instructions in performance-critical operations:  AVX2 AVX512F FMA\n",
      "To enable them in other operations, rebuild TensorFlow with the appropriate compiler flags.\n",
      "2022-12-08 03:11:44.782151: I tensorflow/stream_executor/cuda/cuda_gpu_executor.cc:937] successful NUMA node read from SysFS had negative value (-1), but there must be at least one NUMA node, so returning NUMA node zero\n",
      "2022-12-08 03:11:44.783108: I tensorflow/stream_executor/cuda/cuda_gpu_executor.cc:937] successful NUMA node read from SysFS had negative value (-1), but there must be at least one NUMA node, so returning NUMA node zero\n",
      "2022-12-08 03:11:44.783926: I tensorflow/stream_executor/cuda/cuda_gpu_executor.cc:937] successful NUMA node read from SysFS had negative value (-1), but there must be at least one NUMA node, so returning NUMA node zero\n",
      "2022-12-08 03:11:44.784726: I tensorflow/stream_executor/cuda/cuda_gpu_executor.cc:937] successful NUMA node read from SysFS had negative value (-1), but there must be at least one NUMA node, so returning NUMA node zero\n",
      "2022-12-08 03:11:44.785489: I tensorflow/stream_executor/cuda/cuda_gpu_executor.cc:937] successful NUMA node read from SysFS had negative value (-1), but there must be at least one NUMA node, so returning NUMA node zero\n",
      "2022-12-08 03:11:44.786281: I tensorflow/stream_executor/cuda/cuda_gpu_executor.cc:937] successful NUMA node read from SysFS had negative value (-1), but there must be at least one NUMA node, so returning NUMA node zero\n",
      "2022-12-08 03:11:49.467084: I tensorflow/stream_executor/cuda/cuda_gpu_executor.cc:937] successful NUMA node read from SysFS had negative value (-1), but there must be at least one NUMA node, so returning NUMA node zero\n",
      "2022-12-08 03:11:49.468059: I tensorflow/stream_executor/cuda/cuda_gpu_executor.cc:937] successful NUMA node read from SysFS had negative value (-1), but there must be at least one NUMA node, so returning NUMA node zero\n",
      "2022-12-08 03:11:49.468874: I tensorflow/stream_executor/cuda/cuda_gpu_executor.cc:937] successful NUMA node read from SysFS had negative value (-1), but there must be at least one NUMA node, so returning NUMA node zero\n",
      "2022-12-08 03:11:49.469641: I tensorflow/stream_executor/cuda/cuda_gpu_executor.cc:937] successful NUMA node read from SysFS had negative value (-1), but there must be at least one NUMA node, so returning NUMA node zero\n",
      "2022-12-08 03:11:49.470525: I tensorflow/stream_executor/cuda/cuda_gpu_executor.cc:937] successful NUMA node read from SysFS had negative value (-1), but there must be at least one NUMA node, so returning NUMA node zero\n",
      "2022-12-08 03:11:49.471291: I tensorflow/core/common_runtime/gpu/gpu_device.cc:1510] Created device /job:localhost/replica:0/task:0/device:GPU:0 with 13789 MB memory:  -> device: 0, name: Tesla T4, pci bus id: 0000:00:04.0, compute capability: 7.5\n",
      "2022-12-08 03:11:49.476406: I tensorflow/stream_executor/cuda/cuda_gpu_executor.cc:937] successful NUMA node read from SysFS had negative value (-1), but there must be at least one NUMA node, so returning NUMA node zero\n",
      "2022-12-08 03:11:49.477139: I tensorflow/core/common_runtime/gpu/gpu_device.cc:1510] Created device /job:localhost/replica:0/task:0/device:GPU:1 with 13789 MB memory:  -> device: 1, name: Tesla T4, pci bus id: 0000:00:05.0, compute capability: 7.5\n"
     ]
    },
    {
     "name": "stdout",
     "output_type": "stream",
     "text": [
      "Model: \"sequential\"\n",
      "_________________________________________________________________\n",
      "Layer (type)                 Output Shape              Param #   \n",
      "=================================================================\n",
      "conv2d (Conv2D)              (None, 8, 8, 96)          34944     \n",
      "_________________________________________________________________\n",
      "batch_normalization (BatchNo (None, 8, 8, 96)          384       \n",
      "_________________________________________________________________\n",
      "activation (Activation)      (None, 8, 8, 96)          0         \n",
      "_________________________________________________________________\n",
      "max_pooling2d (MaxPooling2D) (None, 4, 4, 96)          0         \n",
      "_________________________________________________________________\n",
      "conv2d_1 (Conv2D)            (None, 4, 4, 256)         614656    \n",
      "_________________________________________________________________\n",
      "batch_normalization_1 (Batch (None, 4, 4, 256)         1024      \n",
      "_________________________________________________________________\n",
      "activation_1 (Activation)    (None, 4, 4, 256)         0         \n",
      "_________________________________________________________________\n",
      "max_pooling2d_1 (MaxPooling2 (None, 2, 2, 256)         0         \n",
      "_________________________________________________________________\n",
      "conv2d_2 (Conv2D)            (None, 2, 2, 384)         885120    \n",
      "_________________________________________________________________\n",
      "batch_normalization_2 (Batch (None, 2, 2, 384)         1536      \n",
      "_________________________________________________________________\n",
      "activation_2 (Activation)    (None, 2, 2, 384)         0         \n",
      "_________________________________________________________________\n",
      "conv2d_3 (Conv2D)            (None, 2, 2, 384)         1327488   \n",
      "_________________________________________________________________\n",
      "batch_normalization_3 (Batch (None, 2, 2, 384)         1536      \n",
      "_________________________________________________________________\n",
      "activation_3 (Activation)    (None, 2, 2, 384)         0         \n",
      "_________________________________________________________________\n",
      "conv2d_4 (Conv2D)            (None, 2, 2, 256)         884992    \n",
      "_________________________________________________________________\n",
      "batch_normalization_4 (Batch (None, 2, 2, 256)         1024      \n",
      "_________________________________________________________________\n",
      "activation_4 (Activation)    (None, 2, 2, 256)         0         \n",
      "_________________________________________________________________\n",
      "max_pooling2d_2 (MaxPooling2 (None, 1, 1, 256)         0         \n",
      "_________________________________________________________________\n",
      "flatten (Flatten)            (None, 256)               0         \n",
      "_________________________________________________________________\n",
      "dense (Dense)                (None, 4096)              1052672   \n",
      "_________________________________________________________________\n",
      "batch_normalization_5 (Batch (None, 4096)              16384     \n",
      "_________________________________________________________________\n",
      "activation_5 (Activation)    (None, 4096)              0         \n",
      "_________________________________________________________________\n",
      "dropout (Dropout)            (None, 4096)              0         \n",
      "_________________________________________________________________\n",
      "dense_1 (Dense)              (None, 4096)              16781312  \n",
      "_________________________________________________________________\n",
      "batch_normalization_6 (Batch (None, 4096)              16384     \n",
      "_________________________________________________________________\n",
      "activation_6 (Activation)    (None, 4096)              0         \n",
      "_________________________________________________________________\n",
      "dropout_1 (Dropout)          (None, 4096)              0         \n",
      "_________________________________________________________________\n",
      "dense_2 (Dense)              (None, 1000)              4097000   \n",
      "_________________________________________________________________\n",
      "batch_normalization_7 (Batch (None, 1000)              4000      \n",
      "_________________________________________________________________\n",
      "activation_7 (Activation)    (None, 1000)              0         \n",
      "_________________________________________________________________\n",
      "dropout_2 (Dropout)          (None, 1000)              0         \n",
      "_________________________________________________________________\n",
      "dense_3 (Dense)              (None, 10)                10010     \n",
      "_________________________________________________________________\n",
      "batch_normalization_8 (Batch (None, 10)                40        \n",
      "_________________________________________________________________\n",
      "activation_8 (Activation)    (None, 10)                0         \n",
      "=================================================================\n",
      "Total params: 25,730,506\n",
      "Trainable params: 25,709,350\n",
      "Non-trainable params: 21,156\n",
      "_________________________________________________________________\n"
     ]
    }
   ],
   "source": [
    "import keras\n",
    "from keras.models import Sequential\n",
    "from keras.layers import Dense, Activation, Dropout, Flatten, Conv2D, MaxPooling2D\n",
    "from tensorflow.keras.layers import BatchNormalization\n",
    "import numpy as np\n",
    "\n",
    "np.random.seed(1000)\n",
    "\n",
    "AlexNet = Sequential()\n",
    "\n",
    "AlexNet.add(Conv2D(filters=96, input_shape=(32,32,3), kernel_size=(11,11), strides=(4,4), padding='same'))\n",
    "AlexNet.add(BatchNormalization())\n",
    "AlexNet.add(Activation('relu'))\n",
    "AlexNet.add(MaxPooling2D(pool_size=(2,2), strides=(2,2), padding='same'))\n",
    "\n",
    "AlexNet.add(Conv2D(filters=256, kernel_size=(5, 5), strides=(1,1), padding='same'))\n",
    "AlexNet.add(BatchNormalization())\n",
    "AlexNet.add(Activation('relu'))\n",
    "AlexNet.add(MaxPooling2D(pool_size=(2,2), strides=(2,2), padding='same'))\n",
    "\n",
    "AlexNet.add(Conv2D(filters=384, kernel_size=(3,3), strides=(1,1), padding='same'))\n",
    "AlexNet.add(BatchNormalization())\n",
    "AlexNet.add(Activation('relu'))\n",
    "\n",
    "AlexNet.add(Conv2D(filters=384, kernel_size=(3,3), strides=(1,1), padding='same'))\n",
    "AlexNet.add(BatchNormalization())\n",
    "AlexNet.add(Activation('relu'))\n",
    "\n",
    "AlexNet.add(Conv2D(filters=256, kernel_size=(3,3), strides=(1,1), padding='same'))\n",
    "AlexNet.add(BatchNormalization())\n",
    "AlexNet.add(Activation('relu'))\n",
    "AlexNet.add(MaxPooling2D(pool_size=(2,2), strides=(2,2), padding='same'))\n",
    "\n",
    "\n",
    "AlexNet.add(Flatten())\n",
    "AlexNet.add(Dense(4096, input_shape=(32,32,3,)))\n",
    "AlexNet.add(BatchNormalization())\n",
    "AlexNet.add(Activation('relu'))\n",
    "\n",
    "AlexNet.add(Dropout(0.4))\n",
    "\n",
    "#2nd Fully Connected Layer\n",
    "AlexNet.add(Dense(4096))\n",
    "AlexNet.add(BatchNormalization())\n",
    "AlexNet.add(Activation('relu'))\n",
    "#Add Dropout\n",
    "AlexNet.add(Dropout(0.4))\n",
    "\n",
    "AlexNet.add(Dense(1000))\n",
    "AlexNet.add(BatchNormalization())\n",
    "AlexNet.add(Activation('relu'))\n",
    "#Add Dropout\n",
    "AlexNet.add(Dropout(0.4))\n",
    "\n",
    "#Output Layer\n",
    "AlexNet.add(Dense(10))\n",
    "AlexNet.add(BatchNormalization())\n",
    "AlexNet.add(Activation('softmax'))\n",
    "\n",
    "AlexNet.summary()"
   ]
  },
  {
   "cell_type": "code",
   "execution_count": 5,
   "metadata": {
    "execution": {
     "iopub.execute_input": "2022-12-08T03:12:04.366009Z",
     "iopub.status.busy": "2022-12-08T03:12:04.365558Z",
     "iopub.status.idle": "2022-12-08T03:12:04.389166Z",
     "shell.execute_reply": "2022-12-08T03:12:04.388230Z",
     "shell.execute_reply.started": "2022-12-08T03:12:04.365973Z"
    }
   },
   "outputs": [
    {
     "name": "stderr",
     "output_type": "stream",
     "text": [
      "/opt/conda/lib/python3.7/site-packages/keras/optimizer_v2/optimizer_v2.py:356: UserWarning: The `lr` argument is deprecated, use `learning_rate` instead.\n",
      "  \"The `lr` argument is deprecated, use `learning_rate` instead.\")\n"
     ]
    }
   ],
   "source": [
    "AlexNet.compile(loss='categorical_crossentropy', optimizer=tf.optimizers.SGD(lr=0.008), metrics=['accuracy'])"
   ]
  },
  {
   "cell_type": "code",
   "execution_count": 6,
   "metadata": {
    "execution": {
     "iopub.execute_input": "2022-12-08T03:12:04.698058Z",
     "iopub.status.busy": "2022-12-08T03:12:04.697549Z",
     "iopub.status.idle": "2022-12-08T03:12:04.703652Z",
     "shell.execute_reply": "2022-12-08T03:12:04.702414Z",
     "shell.execute_reply.started": "2022-12-08T03:12:04.698014Z"
    }
   },
   "outputs": [],
   "source": [
    "#Defining the parameters\n",
    "batch_size= 100\n",
    "epochs=100\n",
    "learn_rate=.001"
   ]
  },
  {
   "cell_type": "code",
   "execution_count": 60,
   "metadata": {
    "collapsed": true,
    "execution": {
     "iopub.execute_input": "2022-12-07T22:19:55.071064Z",
     "iopub.status.busy": "2022-12-07T22:19:55.070672Z",
     "iopub.status.idle": "2022-12-07T22:20:42.615410Z",
     "shell.execute_reply": "2022-12-07T22:20:42.612428Z",
     "shell.execute_reply.started": "2022-12-07T22:19:55.071014Z"
    },
    "jupyter": {
     "outputs_hidden": true
    }
   },
   "outputs": [
    {
     "name": "stdout",
     "output_type": "stream",
     "text": [
      "Collecting tensorflow-gpu==2.1.0\n",
      "  Downloading tensorflow_gpu-2.1.0-cp37-cp37m-manylinux2010_x86_64.whl (421.8 MB)\n",
      "\u001b[2K     \u001b[90m━━━━━━━━━━━━━━━━━━━━━━━━━━━━━━━━━━━━━━━\u001b[0m \u001b[32m421.8/421.8 MB\u001b[0m \u001b[31m2.3 MB/s\u001b[0m eta \u001b[36m0:00:00\u001b[0m00:01\u001b[0m00:01\u001b[0m\n",
      "\u001b[?25hCollecting tensorboard<2.2.0,>=2.1.0\n",
      "  Downloading tensorboard-2.1.1-py3-none-any.whl (3.8 MB)\n",
      "\u001b[2K     \u001b[90m━━━━━━━━━━━━━━━━━━━━━━━━━━━━━━━━━━━━━━━━\u001b[0m \u001b[32m3.8/3.8 MB\u001b[0m \u001b[31m64.6 MB/s\u001b[0m eta \u001b[36m0:00:00\u001b[0m:00:01\u001b[0m\n",
      "\u001b[?25hRequirement already satisfied: absl-py>=0.7.0 in /opt/conda/lib/python3.7/site-packages (from tensorflow-gpu==2.1.0) (0.15.0)\n",
      "Requirement already satisfied: google-pasta>=0.1.6 in /opt/conda/lib/python3.7/site-packages (from tensorflow-gpu==2.1.0) (0.2.0)\n",
      "Requirement already satisfied: keras-preprocessing>=1.1.0 in /opt/conda/lib/python3.7/site-packages (from tensorflow-gpu==2.1.0) (1.1.2)\n",
      "Requirement already satisfied: wheel>=0.26 in /opt/conda/lib/python3.7/site-packages (from tensorflow-gpu==2.1.0) (0.37.1)\n",
      "Collecting scipy==1.4.1\n",
      "  Downloading scipy-1.4.1-cp37-cp37m-manylinux1_x86_64.whl (26.1 MB)\n",
      "\u001b[2K     \u001b[90m━━━━━━━━━━━━━━━━━━━━━━━━━━━━━━━━━━━━━━━━\u001b[0m \u001b[32m26.1/26.1 MB\u001b[0m \u001b[31m41.2 MB/s\u001b[0m eta \u001b[36m0:00:00\u001b[0m00:01\u001b[0m00:01\u001b[0m\n",
      "\u001b[?25hCollecting astor>=0.6.0\n",
      "  Downloading astor-0.8.1-py2.py3-none-any.whl (27 kB)\n",
      "Requirement already satisfied: wrapt>=1.11.1 in /opt/conda/lib/python3.7/site-packages (from tensorflow-gpu==2.1.0) (1.12.1)\n",
      "Collecting gast==0.2.2\n",
      "  Downloading gast-0.2.2.tar.gz (10 kB)\n",
      "  Preparing metadata (setup.py) ... \u001b[?25ldone\n",
      "\u001b[?25hCollecting tensorflow-estimator<2.2.0,>=2.1.0rc0\n",
      "  Downloading tensorflow_estimator-2.1.0-py2.py3-none-any.whl (448 kB)\n",
      "\u001b[2K     \u001b[90m━━━━━━━━━━━━━━━━━━━━━━━━━━━━━━━━━━━━━━\u001b[0m \u001b[32m449.0/449.0 kB\u001b[0m \u001b[31m30.9 MB/s\u001b[0m eta \u001b[36m0:00:00\u001b[0m\n",
      "\u001b[?25hRequirement already satisfied: six>=1.12.0 in /opt/conda/lib/python3.7/site-packages (from tensorflow-gpu==2.1.0) (1.15.0)\n",
      "Requirement already satisfied: numpy<2.0,>=1.16.0 in /opt/conda/lib/python3.7/site-packages (from tensorflow-gpu==2.1.0) (1.21.6)\n",
      "Collecting keras-applications>=1.0.8\n",
      "  Downloading Keras_Applications-1.0.8-py3-none-any.whl (50 kB)\n",
      "\u001b[2K     \u001b[90m━━━━━━━━━━━━━━━━━━━━━━━━━━━━━━━━━━━━━━━━\u001b[0m \u001b[32m50.7/50.7 kB\u001b[0m \u001b[31m4.0 MB/s\u001b[0m eta \u001b[36m0:00:00\u001b[0m\n",
      "\u001b[?25hRequirement already satisfied: opt-einsum>=2.3.2 in /opt/conda/lib/python3.7/site-packages (from tensorflow-gpu==2.1.0) (3.3.0)\n",
      "Requirement already satisfied: termcolor>=1.1.0 in /opt/conda/lib/python3.7/site-packages (from tensorflow-gpu==2.1.0) (1.1.0)\n",
      "Requirement already satisfied: protobuf>=3.8.0 in /opt/conda/lib/python3.7/site-packages (from tensorflow-gpu==2.1.0) (3.19.4)\n",
      "Requirement already satisfied: grpcio>=1.8.6 in /opt/conda/lib/python3.7/site-packages (from tensorflow-gpu==2.1.0) (1.43.0)\n",
      "Requirement already satisfied: h5py in /opt/conda/lib/python3.7/site-packages (from keras-applications>=1.0.8->tensorflow-gpu==2.1.0) (3.7.0)\n",
      "Requirement already satisfied: google-auth<2,>=1.6.3 in /opt/conda/lib/python3.7/site-packages (from tensorboard<2.2.0,>=2.1.0->tensorflow-gpu==2.1.0) (1.35.0)\n",
      "Requirement already satisfied: setuptools>=41.0.0 in /opt/conda/lib/python3.7/site-packages (from tensorboard<2.2.0,>=2.1.0->tensorflow-gpu==2.1.0) (59.8.0)\n",
      "Requirement already satisfied: werkzeug>=0.11.15 in /opt/conda/lib/python3.7/site-packages (from tensorboard<2.2.0,>=2.1.0->tensorflow-gpu==2.1.0) (2.2.2)\n",
      "Requirement already satisfied: markdown>=2.6.8 in /opt/conda/lib/python3.7/site-packages (from tensorboard<2.2.0,>=2.1.0->tensorflow-gpu==2.1.0) (3.3.7)\n",
      "Requirement already satisfied: requests<3,>=2.21.0 in /opt/conda/lib/python3.7/site-packages (from tensorboard<2.2.0,>=2.1.0->tensorflow-gpu==2.1.0) (2.28.1)\n",
      "Requirement already satisfied: google-auth-oauthlib<0.5,>=0.4.1 in /opt/conda/lib/python3.7/site-packages (from tensorboard<2.2.0,>=2.1.0->tensorflow-gpu==2.1.0) (0.4.6)\n",
      "Requirement already satisfied: cachetools<5.0,>=2.0.0 in /opt/conda/lib/python3.7/site-packages (from google-auth<2,>=1.6.3->tensorboard<2.2.0,>=2.1.0->tensorflow-gpu==2.1.0) (4.2.4)\n",
      "Requirement already satisfied: rsa<5,>=3.1.4 in /opt/conda/lib/python3.7/site-packages (from google-auth<2,>=1.6.3->tensorboard<2.2.0,>=2.1.0->tensorflow-gpu==2.1.0) (4.8)\n",
      "Requirement already satisfied: pyasn1-modules>=0.2.1 in /opt/conda/lib/python3.7/site-packages (from google-auth<2,>=1.6.3->tensorboard<2.2.0,>=2.1.0->tensorflow-gpu==2.1.0) (0.2.7)\n",
      "Requirement already satisfied: requests-oauthlib>=0.7.0 in /opt/conda/lib/python3.7/site-packages (from google-auth-oauthlib<0.5,>=0.4.1->tensorboard<2.2.0,>=2.1.0->tensorflow-gpu==2.1.0) (1.3.1)\n",
      "Requirement already satisfied: importlib-metadata>=4.4 in /opt/conda/lib/python3.7/site-packages (from markdown>=2.6.8->tensorboard<2.2.0,>=2.1.0->tensorflow-gpu==2.1.0) (4.13.0)\n",
      "Requirement already satisfied: idna<4,>=2.5 in /opt/conda/lib/python3.7/site-packages (from requests<3,>=2.21.0->tensorboard<2.2.0,>=2.1.0->tensorflow-gpu==2.1.0) (3.3)\n",
      "Requirement already satisfied: charset-normalizer<3,>=2 in /opt/conda/lib/python3.7/site-packages (from requests<3,>=2.21.0->tensorboard<2.2.0,>=2.1.0->tensorflow-gpu==2.1.0) (2.1.0)\n",
      "Requirement already satisfied: certifi>=2017.4.17 in /opt/conda/lib/python3.7/site-packages (from requests<3,>=2.21.0->tensorboard<2.2.0,>=2.1.0->tensorflow-gpu==2.1.0) (2022.9.24)\n",
      "Requirement already satisfied: urllib3<1.27,>=1.21.1 in /opt/conda/lib/python3.7/site-packages (from requests<3,>=2.21.0->tensorboard<2.2.0,>=2.1.0->tensorflow-gpu==2.1.0) (1.26.12)\n",
      "Requirement already satisfied: MarkupSafe>=2.1.1 in /opt/conda/lib/python3.7/site-packages (from werkzeug>=0.11.15->tensorboard<2.2.0,>=2.1.0->tensorflow-gpu==2.1.0) (2.1.1)\n",
      "Requirement already satisfied: typing-extensions>=3.6.4 in /opt/conda/lib/python3.7/site-packages (from importlib-metadata>=4.4->markdown>=2.6.8->tensorboard<2.2.0,>=2.1.0->tensorflow-gpu==2.1.0) (4.1.1)\n",
      "Requirement already satisfied: zipp>=0.5 in /opt/conda/lib/python3.7/site-packages (from importlib-metadata>=4.4->markdown>=2.6.8->tensorboard<2.2.0,>=2.1.0->tensorflow-gpu==2.1.0) (3.8.0)\n",
      "Requirement already satisfied: pyasn1<0.5.0,>=0.4.6 in /opt/conda/lib/python3.7/site-packages (from pyasn1-modules>=0.2.1->google-auth<2,>=1.6.3->tensorboard<2.2.0,>=2.1.0->tensorflow-gpu==2.1.0) (0.4.8)\n",
      "Requirement already satisfied: oauthlib>=3.0.0 in /opt/conda/lib/python3.7/site-packages (from requests-oauthlib>=0.7.0->google-auth-oauthlib<0.5,>=0.4.1->tensorboard<2.2.0,>=2.1.0->tensorflow-gpu==2.1.0) (3.2.0)\n",
      "Building wheels for collected packages: gast\n",
      "  Building wheel for gast (setup.py) ... \u001b[?25ldone\n",
      "\u001b[?25h  Created wheel for gast: filename=gast-0.2.2-py3-none-any.whl size=7554 sha256=a9fde3fc6aeca0d8870b1ce071b750ce6eba16830ad28a87194bcc14492557c4\n",
      "  Stored in directory: /root/.cache/pip/wheels/21/7f/02/420f32a803f7d0967b48dd823da3f558c5166991bfd204eef3\n",
      "Successfully built gast\n",
      "Installing collected packages: tensorflow-estimator, scipy, gast, astor, keras-applications, tensorboard, tensorflow-gpu\n",
      "  Attempting uninstall: tensorflow-estimator\n",
      "    Found existing installation: tensorflow-estimator 2.6.0\n",
      "    Uninstalling tensorflow-estimator-2.6.0:\n",
      "      Successfully uninstalled tensorflow-estimator-2.6.0\n",
      "  Attempting uninstall: scipy\n",
      "    Found existing installation: scipy 1.7.3\n",
      "    Uninstalling scipy-1.7.3:\n",
      "      Successfully uninstalled scipy-1.7.3\n",
      "  Attempting uninstall: gast\n",
      "    Found existing installation: gast 0.4.0\n",
      "    Uninstalling gast-0.4.0:\n",
      "      Successfully uninstalled gast-0.4.0\n",
      "  Attempting uninstall: tensorboard\n",
      "    Found existing installation: tensorboard 2.10.1\n",
      "    Uninstalling tensorboard-2.10.1:\n",
      "      Successfully uninstalled tensorboard-2.10.1\n",
      "\u001b[31mERROR: pip's dependency resolver does not currently take into account all the packages that are installed. This behaviour is the source of the following dependency conflicts.\n",
      "tensorflow-io 0.21.0 requires tensorflow-io-gcs-filesystem==0.21.0, which is not installed.\n",
      "tensorflow 2.6.4 requires gast==0.4.0, but you have gast 0.2.2 which is incompatible.\n",
      "tensorflow 2.6.4 requires h5py~=3.1.0, but you have h5py 3.7.0 which is incompatible.\n",
      "tensorflow 2.6.4 requires numpy~=1.19.2, but you have numpy 1.21.6 which is incompatible.\n",
      "tensorflow 2.6.4 requires tensorboard<2.7,>=2.6.0, but you have tensorboard 2.1.1 which is incompatible.\n",
      "tensorflow 2.6.4 requires tensorflow-estimator<2.7,>=2.6.0, but you have tensorflow-estimator 2.1.0 which is incompatible.\n",
      "tensorflow 2.6.4 requires typing-extensions<3.11,>=3.7, but you have typing-extensions 4.1.1 which is incompatible.\n",
      "tensorflow-transform 1.9.0 requires tensorflow!=2.0.*,!=2.1.*,!=2.2.*,!=2.3.*,!=2.4.*,!=2.5.*,!=2.6.*,!=2.7.*,!=2.8.*,<2.10,>=1.15.5, but you have tensorflow 2.6.4 which is incompatible.\n",
      "tensorflow-serving-api 2.9.0 requires tensorflow<3,>=2.9.0, but you have tensorflow 2.6.4 which is incompatible.\n",
      "tensorflow-probability 0.14.1 requires gast>=0.3.2, but you have gast 0.2.2 which is incompatible.\n",
      "tensorflow-cloud 0.1.14 requires tensorboard>=2.3.0, but you have tensorboard 2.1.1 which is incompatible.\n",
      "stumpy 1.11.1 requires scipy>=1.5, but you have scipy 1.4.1 which is incompatible.\n",
      "sklearn-pandas 2.2.0 requires scipy>=1.5.1, but you have scipy 1.4.1 which is incompatible.\n",
      "pytorch-lightning 1.7.7 requires tensorboard>=2.9.1, but you have tensorboard 2.1.1 which is incompatible.\n",
      "pymc3 3.11.5 requires scipy<1.8.0,>=1.7.3, but you have scipy 1.4.1 which is incompatible.\n",
      "plotnine 0.8.0 requires scipy>=1.5.0, but you have scipy 1.4.1 which is incompatible.\n",
      "phik 0.12.2 requires scipy>=1.5.2, but you have scipy 1.4.1 which is incompatible.\n",
      "pdpbox 0.2.1 requires matplotlib==3.1.1, but you have matplotlib 3.5.3 which is incompatible.\n",
      "pandas-profiling 3.1.0 requires markupsafe~=2.0.1, but you have markupsafe 2.1.1 which is incompatible.\n",
      "optuna 3.0.3 requires scipy<1.9.0,>=1.7.0, but you have scipy 1.4.1 which is incompatible.\n",
      "nilearn 0.9.2 requires scipy>=1.5, but you have scipy 1.4.1 which is incompatible.\n",
      "jaxlib 0.3.22+cuda11.cudnn805 requires scipy>=1.5, but you have scipy 1.4.1 which is incompatible.\n",
      "jax 0.3.23 requires scipy>=1.5, but you have scipy 1.4.1 which is incompatible.\n",
      "allennlp 2.10.1 requires scipy>=1.7.3, but you have scipy 1.4.1 which is incompatible.\u001b[0m\u001b[31m\n",
      "\u001b[0mSuccessfully installed astor-0.8.1 gast-0.2.2 keras-applications-1.0.8 scipy-1.4.1 tensorboard-2.1.1 tensorflow-estimator-2.1.0 tensorflow-gpu-2.1.0\n",
      "\u001b[33mWARNING: Running pip as the 'root' user can result in broken permissions and conflicting behaviour with the system package manager. It is recommended to use a virtual environment instead: https://pip.pypa.io/warnings/venv\u001b[0m\u001b[33m\n",
      "\u001b[0mNote: you may need to restart the kernel to use updated packages.\n"
     ]
    }
   ],
   "source": [
    "pip install tensorflow-gpu==2.1.0 "
   ]
  },
  {
   "cell_type": "code",
   "execution_count": 8,
   "metadata": {
    "execution": {
     "iopub.execute_input": "2022-12-08T03:12:31.240062Z",
     "iopub.status.busy": "2022-12-08T03:12:31.239671Z",
     "iopub.status.idle": "2022-12-08T03:24:55.212988Z",
     "shell.execute_reply": "2022-12-08T03:24:55.211727Z",
     "shell.execute_reply.started": "2022-12-08T03:12:31.240024Z"
    }
   },
   "outputs": [
    {
     "name": "stderr",
     "output_type": "stream",
     "text": [
      "2022-12-08 03:12:31.926889: I tensorflow/compiler/mlir/mlir_graph_optimization_pass.cc:185] None of the MLIR Optimization Passes are enabled (registered 2)\n"
     ]
    },
    {
     "name": "stdout",
     "output_type": "stream",
     "text": [
      "Epoch 1/100\n"
     ]
    },
    {
     "name": "stderr",
     "output_type": "stream",
     "text": [
      "2022-12-08 03:12:35.129112: I tensorflow/stream_executor/cuda/cuda_dnn.cc:369] Loaded cuDNN version 8005\n"
     ]
    },
    {
     "name": "stdout",
     "output_type": "stream",
     "text": [
      "350/350 [==============================] - 21s 19ms/step - loss: 1.8551 - accuracy: 0.3304 - val_loss: 1.7454 - val_accuracy: 0.3975\n",
      "Epoch 2/100\n",
      "350/350 [==============================] - 7s 19ms/step - loss: 1.5447 - accuracy: 0.4593 - val_loss: 1.6383 - val_accuracy: 0.4117\n",
      "Epoch 3/100\n",
      "350/350 [==============================] - 7s 19ms/step - loss: 1.4056 - accuracy: 0.5157 - val_loss: 1.5142 - val_accuracy: 0.4761\n",
      "Epoch 4/100\n",
      "350/350 [==============================] - 6s 18ms/step - loss: 1.3021 - accuracy: 0.5587 - val_loss: 1.5136 - val_accuracy: 0.4695\n",
      "Epoch 5/100\n",
      "350/350 [==============================] - 6s 17ms/step - loss: 1.2097 - accuracy: 0.5907 - val_loss: 1.5519 - val_accuracy: 0.4613\n",
      "Epoch 6/100\n",
      "350/350 [==============================] - 6s 18ms/step - loss: 1.1368 - accuracy: 0.6189 - val_loss: 1.4053 - val_accuracy: 0.5131\n",
      "Epoch 7/100\n",
      "350/350 [==============================] - 6s 18ms/step - loss: 1.0617 - accuracy: 0.6467 - val_loss: 1.2730 - val_accuracy: 0.5629\n",
      "Epoch 8/100\n",
      "350/350 [==============================] - 7s 19ms/step - loss: 0.9954 - accuracy: 0.6713 - val_loss: 1.4057 - val_accuracy: 0.5277\n",
      "Epoch 9/100\n",
      "350/350 [==============================] - 7s 20ms/step - loss: 0.9325 - accuracy: 0.6945 - val_loss: 1.2268 - val_accuracy: 0.5793\n",
      "Epoch 10/100\n",
      "350/350 [==============================] - 6s 18ms/step - loss: 0.8622 - accuracy: 0.7196 - val_loss: 1.4247 - val_accuracy: 0.5294\n",
      "Epoch 11/100\n",
      "350/350 [==============================] - 6s 18ms/step - loss: 0.7995 - accuracy: 0.7406 - val_loss: 1.4292 - val_accuracy: 0.5399\n",
      "Epoch 12/100\n",
      "350/350 [==============================] - 7s 20ms/step - loss: 0.7296 - accuracy: 0.7671 - val_loss: 2.3099 - val_accuracy: 0.4135\n",
      "Epoch 13/100\n",
      "350/350 [==============================] - 6s 19ms/step - loss: 0.6753 - accuracy: 0.7877 - val_loss: 1.3225 - val_accuracy: 0.5765\n",
      "Epoch 14/100\n",
      "350/350 [==============================] - 7s 20ms/step - loss: 0.6123 - accuracy: 0.8088 - val_loss: 1.5243 - val_accuracy: 0.5381\n",
      "Epoch 15/100\n",
      "350/350 [==============================] - 6s 18ms/step - loss: 0.5560 - accuracy: 0.8295 - val_loss: 1.4226 - val_accuracy: 0.5657\n",
      "Epoch 16/100\n",
      "350/350 [==============================] - 7s 19ms/step - loss: 0.4925 - accuracy: 0.8532 - val_loss: 1.3831 - val_accuracy: 0.5794\n",
      "Epoch 17/100\n",
      "350/350 [==============================] - 7s 20ms/step - loss: 0.4413 - accuracy: 0.8709 - val_loss: 1.5568 - val_accuracy: 0.5473\n",
      "Epoch 18/100\n",
      "350/350 [==============================] - 7s 21ms/step - loss: 0.3920 - accuracy: 0.8851 - val_loss: 1.4765 - val_accuracy: 0.5706\n",
      "Epoch 19/100\n",
      "350/350 [==============================] - 7s 19ms/step - loss: 0.3495 - accuracy: 0.8996 - val_loss: 1.4405 - val_accuracy: 0.5941\n",
      "Epoch 20/100\n",
      "350/350 [==============================] - 7s 21ms/step - loss: 0.2987 - accuracy: 0.9199 - val_loss: 1.6146 - val_accuracy: 0.5671\n",
      "Epoch 21/100\n",
      "350/350 [==============================] - 7s 20ms/step - loss: 0.2635 - accuracy: 0.9295 - val_loss: 1.7862 - val_accuracy: 0.5302\n",
      "Epoch 22/100\n",
      "350/350 [==============================] - 7s 19ms/step - loss: 0.2316 - accuracy: 0.9398 - val_loss: 1.5518 - val_accuracy: 0.5819\n",
      "Epoch 23/100\n",
      "350/350 [==============================] - 7s 20ms/step - loss: 0.2019 - accuracy: 0.9497 - val_loss: 1.5054 - val_accuracy: 0.5991\n",
      "Epoch 24/100\n",
      "350/350 [==============================] - 7s 20ms/step - loss: 0.1791 - accuracy: 0.9563 - val_loss: 1.8199 - val_accuracy: 0.5347\n",
      "Epoch 25/100\n",
      "350/350 [==============================] - 7s 19ms/step - loss: 0.1672 - accuracy: 0.9591 - val_loss: 1.5781 - val_accuracy: 0.5912\n",
      "Epoch 26/100\n",
      "350/350 [==============================] - 7s 20ms/step - loss: 0.1344 - accuracy: 0.9707 - val_loss: 1.6748 - val_accuracy: 0.5880\n",
      "Epoch 27/100\n",
      "350/350 [==============================] - 7s 20ms/step - loss: 0.1273 - accuracy: 0.9719 - val_loss: 1.8316 - val_accuracy: 0.5567\n",
      "Epoch 28/100\n",
      "350/350 [==============================] - 7s 19ms/step - loss: 0.1068 - accuracy: 0.9787 - val_loss: 1.9021 - val_accuracy: 0.5639\n",
      "Epoch 29/100\n",
      "350/350 [==============================] - 7s 20ms/step - loss: 0.0939 - accuracy: 0.9820 - val_loss: 1.6910 - val_accuracy: 0.5865\n",
      "Epoch 30/100\n",
      "350/350 [==============================] - 7s 21ms/step - loss: 0.0780 - accuracy: 0.9873 - val_loss: 1.5390 - val_accuracy: 0.6240\n",
      "Epoch 31/100\n",
      "350/350 [==============================] - 7s 20ms/step - loss: 0.0653 - accuracy: 0.9906 - val_loss: 1.5308 - val_accuracy: 0.6215\n",
      "Epoch 32/100\n",
      "350/350 [==============================] - 7s 21ms/step - loss: 0.0609 - accuracy: 0.9914 - val_loss: 1.7073 - val_accuracy: 0.5971\n",
      "Epoch 33/100\n",
      "350/350 [==============================] - 7s 19ms/step - loss: 0.0522 - accuracy: 0.9940 - val_loss: 1.5412 - val_accuracy: 0.6275\n",
      "Epoch 34/100\n",
      "350/350 [==============================] - 7s 19ms/step - loss: 0.0521 - accuracy: 0.9930 - val_loss: 1.8207 - val_accuracy: 0.5832\n",
      "Epoch 35/100\n",
      "350/350 [==============================] - 7s 20ms/step - loss: 0.0469 - accuracy: 0.9941 - val_loss: 1.6194 - val_accuracy: 0.6170\n",
      "Epoch 36/100\n",
      "350/350 [==============================] - 7s 19ms/step - loss: 0.0414 - accuracy: 0.9956 - val_loss: 1.6500 - val_accuracy: 0.6105\n",
      "Epoch 37/100\n",
      "350/350 [==============================] - 7s 19ms/step - loss: 0.0380 - accuracy: 0.9957 - val_loss: 1.6665 - val_accuracy: 0.6173\n",
      "Epoch 38/100\n",
      "350/350 [==============================] - 7s 19ms/step - loss: 0.0368 - accuracy: 0.9963 - val_loss: 1.7529 - val_accuracy: 0.5948\n",
      "Epoch 39/100\n",
      "350/350 [==============================] - 7s 20ms/step - loss: 0.0390 - accuracy: 0.9949 - val_loss: 1.6621 - val_accuracy: 0.6218\n",
      "Epoch 40/100\n",
      "350/350 [==============================] - 7s 20ms/step - loss: 0.0412 - accuracy: 0.9940 - val_loss: 1.7663 - val_accuracy: 0.6071\n",
      "Epoch 41/100\n",
      "350/350 [==============================] - 7s 19ms/step - loss: 0.0450 - accuracy: 0.9927 - val_loss: 1.8150 - val_accuracy: 0.5955\n",
      "Epoch 42/100\n",
      "350/350 [==============================] - 7s 19ms/step - loss: 0.0605 - accuracy: 0.9880 - val_loss: 1.8137 - val_accuracy: 0.5972\n",
      "Epoch 43/100\n",
      "350/350 [==============================] - 7s 19ms/step - loss: 0.0441 - accuracy: 0.9925 - val_loss: 1.7260 - val_accuracy: 0.6127\n",
      "Epoch 44/100\n",
      "350/350 [==============================] - 7s 19ms/step - loss: 0.0625 - accuracy: 0.9859 - val_loss: 2.2442 - val_accuracy: 0.5440\n",
      "Epoch 45/100\n",
      "350/350 [==============================] - 7s 20ms/step - loss: 0.0484 - accuracy: 0.9911 - val_loss: 1.7378 - val_accuracy: 0.6195\n",
      "Epoch 46/100\n",
      "350/350 [==============================] - 7s 19ms/step - loss: 0.0392 - accuracy: 0.9937 - val_loss: 1.9045 - val_accuracy: 0.5892\n",
      "Epoch 47/100\n",
      "350/350 [==============================] - 7s 20ms/step - loss: 0.0366 - accuracy: 0.9940 - val_loss: 1.7854 - val_accuracy: 0.6070\n",
      "Epoch 48/100\n",
      "350/350 [==============================] - 7s 19ms/step - loss: 0.0302 - accuracy: 0.9959 - val_loss: 1.7927 - val_accuracy: 0.6001\n",
      "Epoch 49/100\n",
      "350/350 [==============================] - 7s 20ms/step - loss: 0.0369 - accuracy: 0.9933 - val_loss: 1.7890 - val_accuracy: 0.6193\n",
      "Epoch 50/100\n",
      "350/350 [==============================] - 7s 19ms/step - loss: 0.0408 - accuracy: 0.9923 - val_loss: 1.7191 - val_accuracy: 0.6239\n",
      "Epoch 51/100\n",
      "350/350 [==============================] - 7s 19ms/step - loss: 0.0538 - accuracy: 0.9878 - val_loss: 1.8769 - val_accuracy: 0.6062\n",
      "Epoch 52/100\n",
      "350/350 [==============================] - 7s 20ms/step - loss: 0.0408 - accuracy: 0.9916 - val_loss: 1.7631 - val_accuracy: 0.6183\n",
      "Epoch 53/100\n",
      "350/350 [==============================] - 7s 19ms/step - loss: 0.0378 - accuracy: 0.9931 - val_loss: 1.7405 - val_accuracy: 0.6305\n",
      "Epoch 54/100\n",
      "350/350 [==============================] - 7s 20ms/step - loss: 0.0361 - accuracy: 0.9931 - val_loss: 1.7756 - val_accuracy: 0.6242\n",
      "Epoch 55/100\n",
      "350/350 [==============================] - 7s 19ms/step - loss: 0.0280 - accuracy: 0.9954 - val_loss: 1.8676 - val_accuracy: 0.6046\n",
      "Epoch 56/100\n",
      "350/350 [==============================] - 7s 19ms/step - loss: 0.0299 - accuracy: 0.9948 - val_loss: 1.7972 - val_accuracy: 0.6211\n",
      "Epoch 57/100\n",
      "350/350 [==============================] - 7s 20ms/step - loss: 0.0284 - accuracy: 0.9952 - val_loss: 1.7424 - val_accuracy: 0.6306\n",
      "Epoch 58/100\n",
      "350/350 [==============================] - 7s 20ms/step - loss: 0.0214 - accuracy: 0.9975 - val_loss: 1.8195 - val_accuracy: 0.6193\n",
      "Epoch 59/100\n",
      "350/350 [==============================] - 7s 20ms/step - loss: 0.0139 - accuracy: 0.9995 - val_loss: 1.7070 - val_accuracy: 0.6357\n",
      "Epoch 60/100\n",
      "350/350 [==============================] - 6s 19ms/step - loss: 0.0127 - accuracy: 0.9997 - val_loss: 1.6829 - val_accuracy: 0.6396\n",
      "Epoch 61/100\n",
      "350/350 [==============================] - 7s 20ms/step - loss: 0.0130 - accuracy: 0.9995 - val_loss: 1.7092 - val_accuracy: 0.6309\n",
      "Epoch 62/100\n",
      "350/350 [==============================] - 7s 19ms/step - loss: 0.0108 - accuracy: 0.9997 - val_loss: 1.6702 - val_accuracy: 0.6451\n",
      "Epoch 63/100\n",
      "350/350 [==============================] - 7s 19ms/step - loss: 0.0106 - accuracy: 0.9998 - val_loss: 1.6781 - val_accuracy: 0.6407\n",
      "Epoch 64/100\n",
      "350/350 [==============================] - 7s 21ms/step - loss: 0.0096 - accuracy: 0.9998 - val_loss: 1.6738 - val_accuracy: 0.6403\n",
      "Epoch 65/100\n",
      "350/350 [==============================] - 7s 20ms/step - loss: 0.0118 - accuracy: 0.9993 - val_loss: 1.7189 - val_accuracy: 0.6392\n",
      "Epoch 66/100\n",
      "350/350 [==============================] - 7s 19ms/step - loss: 0.0099 - accuracy: 0.9999 - val_loss: 1.6756 - val_accuracy: 0.6441\n",
      "Epoch 67/100\n",
      "350/350 [==============================] - 7s 19ms/step - loss: 0.0088 - accuracy: 0.9998 - val_loss: 1.7394 - val_accuracy: 0.6320\n",
      "Epoch 68/100\n",
      "350/350 [==============================] - 7s 20ms/step - loss: 0.0095 - accuracy: 0.9997 - val_loss: 1.7055 - val_accuracy: 0.6368\n",
      "Epoch 69/100\n",
      "350/350 [==============================] - 7s 21ms/step - loss: 0.0090 - accuracy: 0.9998 - val_loss: 1.7290 - val_accuracy: 0.6381\n",
      "Epoch 70/100\n",
      "350/350 [==============================] - 7s 20ms/step - loss: 0.0085 - accuracy: 0.9999 - val_loss: 1.7072 - val_accuracy: 0.6405\n",
      "Epoch 71/100\n",
      "350/350 [==============================] - 7s 19ms/step - loss: 0.0119 - accuracy: 0.9988 - val_loss: 1.7482 - val_accuracy: 0.6269\n",
      "Epoch 72/100\n",
      "350/350 [==============================] - 7s 19ms/step - loss: 0.0114 - accuracy: 0.9994 - val_loss: 1.7274 - val_accuracy: 0.6362\n",
      "Epoch 73/100\n",
      "350/350 [==============================] - 7s 19ms/step - loss: 0.0106 - accuracy: 0.9994 - val_loss: 1.7581 - val_accuracy: 0.6369\n",
      "Epoch 74/100\n",
      "350/350 [==============================] - 7s 19ms/step - loss: 0.0077 - accuracy: 0.9999 - val_loss: 1.6930 - val_accuracy: 0.6466\n",
      "Epoch 75/100\n",
      "350/350 [==============================] - 7s 19ms/step - loss: 0.0072 - accuracy: 1.0000 - val_loss: 1.6990 - val_accuracy: 0.6442\n",
      "Epoch 76/100\n",
      "350/350 [==============================] - 7s 20ms/step - loss: 0.0086 - accuracy: 0.9998 - val_loss: 1.7239 - val_accuracy: 0.6449\n",
      "Epoch 77/100\n",
      "350/350 [==============================] - 7s 19ms/step - loss: 0.0098 - accuracy: 0.9994 - val_loss: 1.7438 - val_accuracy: 0.6374\n",
      "Epoch 78/100\n",
      "350/350 [==============================] - 7s 19ms/step - loss: 0.0110 - accuracy: 0.9991 - val_loss: 1.7524 - val_accuracy: 0.6374\n",
      "Epoch 79/100\n",
      "350/350 [==============================] - 7s 20ms/step - loss: 0.0083 - accuracy: 0.9997 - val_loss: 1.7865 - val_accuracy: 0.6339\n",
      "Epoch 80/100\n",
      "350/350 [==============================] - 7s 20ms/step - loss: 0.0074 - accuracy: 0.9999 - val_loss: 1.7296 - val_accuracy: 0.6437\n",
      "Epoch 81/100\n",
      "350/350 [==============================] - 7s 20ms/step - loss: 0.0074 - accuracy: 0.9999 - val_loss: 1.7290 - val_accuracy: 0.6450\n",
      "Epoch 82/100\n",
      "350/350 [==============================] - 7s 20ms/step - loss: 0.0069 - accuracy: 0.9999 - val_loss: 1.7078 - val_accuracy: 0.6456\n",
      "Epoch 83/100\n",
      "350/350 [==============================] - 7s 19ms/step - loss: 0.0065 - accuracy: 1.0000 - val_loss: 1.7191 - val_accuracy: 0.6435\n",
      "Epoch 84/100\n",
      "350/350 [==============================] - 7s 20ms/step - loss: 0.0065 - accuracy: 1.0000 - val_loss: 1.7210 - val_accuracy: 0.6449\n",
      "Epoch 85/100\n",
      "350/350 [==============================] - 7s 20ms/step - loss: 0.0066 - accuracy: 0.9999 - val_loss: 1.7154 - val_accuracy: 0.6458\n",
      "Epoch 86/100\n",
      "350/350 [==============================] - 7s 20ms/step - loss: 0.0060 - accuracy: 1.0000 - val_loss: 1.7160 - val_accuracy: 0.6464\n",
      "Epoch 87/100\n",
      "350/350 [==============================] - 7s 19ms/step - loss: 0.0058 - accuracy: 1.0000 - val_loss: 1.7159 - val_accuracy: 0.6455\n",
      "Epoch 88/100\n",
      "350/350 [==============================] - 7s 19ms/step - loss: 0.0057 - accuracy: 1.0000 - val_loss: 1.7079 - val_accuracy: 0.6468\n",
      "Epoch 89/100\n",
      "350/350 [==============================] - 7s 19ms/step - loss: 0.0061 - accuracy: 0.9999 - val_loss: 1.7339 - val_accuracy: 0.6433\n",
      "Epoch 90/100\n",
      "350/350 [==============================] - 7s 19ms/step - loss: 0.0065 - accuracy: 0.9998 - val_loss: 1.7404 - val_accuracy: 0.6422\n",
      "Epoch 91/100\n",
      "350/350 [==============================] - 7s 20ms/step - loss: 0.0069 - accuracy: 0.9998 - val_loss: 1.7497 - val_accuracy: 0.6447\n",
      "Epoch 92/100\n",
      "350/350 [==============================] - 7s 19ms/step - loss: 0.0061 - accuracy: 0.9999 - val_loss: 1.7364 - val_accuracy: 0.6456\n",
      "Epoch 93/100\n",
      "350/350 [==============================] - 7s 20ms/step - loss: 0.0055 - accuracy: 1.0000 - val_loss: 1.7298 - val_accuracy: 0.6456\n",
      "Epoch 94/100\n",
      "350/350 [==============================] - 7s 20ms/step - loss: 0.0056 - accuracy: 1.0000 - val_loss: 1.7734 - val_accuracy: 0.6412\n",
      "Epoch 95/100\n",
      "350/350 [==============================] - 7s 20ms/step - loss: 0.0057 - accuracy: 0.9999 - val_loss: 1.7380 - val_accuracy: 0.6450\n",
      "Epoch 96/100\n",
      "350/350 [==============================] - 7s 20ms/step - loss: 0.0053 - accuracy: 1.0000 - val_loss: 1.7319 - val_accuracy: 0.6463\n",
      "Epoch 97/100\n",
      "350/350 [==============================] - 7s 20ms/step - loss: 0.0052 - accuracy: 1.0000 - val_loss: 1.7326 - val_accuracy: 0.6465\n",
      "Epoch 98/100\n",
      "350/350 [==============================] - 7s 20ms/step - loss: 0.0051 - accuracy: 1.0000 - val_loss: 1.7337 - val_accuracy: 0.6453\n",
      "Epoch 99/100\n",
      "350/350 [==============================] - 7s 19ms/step - loss: 0.0056 - accuracy: 0.9999 - val_loss: 1.7485 - val_accuracy: 0.6439\n",
      "Epoch 100/100\n",
      "350/350 [==============================] - 7s 19ms/step - loss: 0.0049 - accuracy: 1.0000 - val_loss: 1.7459 - val_accuracy: 0.6467\n"
     ]
    },
    {
     "data": {
      "text/plain": [
       "<keras.callbacks.History at 0x7fc06aca8850>"
      ]
     },
     "execution_count": 8,
     "metadata": {},
     "output_type": "execute_result"
    }
   ],
   "source": [
    "AlexNet.fit(x_train,y_train,batch_size=batch_size,epochs = epochs,validation_data = (x_val, y_val))"
   ]
  },
  {
   "cell_type": "code",
   "execution_count": 9,
   "metadata": {
    "execution": {
     "iopub.execute_input": "2022-12-08T03:35:53.614156Z",
     "iopub.status.busy": "2022-12-08T03:35:53.613771Z",
     "iopub.status.idle": "2022-12-08T03:35:53.640093Z",
     "shell.execute_reply": "2022-12-08T03:35:53.638033Z",
     "shell.execute_reply.started": "2022-12-08T03:35:53.614122Z"
    }
   },
   "outputs": [
    {
     "ename": "NameError",
     "evalue": "name 'history' is not defined",
     "output_type": "error",
     "traceback": [
      "\u001b[0;31m---------------------------------------------------------------------------\u001b[0m",
      "\u001b[0;31mNameError\u001b[0m                                 Traceback (most recent call last)",
      "\u001b[0;32m/tmp/ipykernel_23/3885426154.py\u001b[0m in \u001b[0;36m<module>\u001b[0;34m\u001b[0m\n\u001b[0;32m----> 1\u001b[0;31m \u001b[0mprint\u001b[0m\u001b[0;34m(\u001b[0m\u001b[0mhistory\u001b[0m\u001b[0;34m.\u001b[0m\u001b[0mhistory\u001b[0m\u001b[0;34m.\u001b[0m\u001b[0mkeys\u001b[0m\u001b[0;34m(\u001b[0m\u001b[0;34m)\u001b[0m\u001b[0;34m)\u001b[0m\u001b[0;34m\u001b[0m\u001b[0;34m\u001b[0m\u001b[0m\n\u001b[0m",
      "\u001b[0;31mNameError\u001b[0m: name 'history' is not defined"
     ]
    }
   ],
   "source": []
  },
  {
   "cell_type": "code",
   "execution_count": 12,
   "metadata": {
    "execution": {
     "iopub.execute_input": "2022-12-08T03:37:40.290804Z",
     "iopub.status.busy": "2022-12-08T03:37:40.290425Z",
     "iopub.status.idle": "2022-12-08T03:37:43.086557Z",
     "shell.execute_reply": "2022-12-08T03:37:43.085324Z",
     "shell.execute_reply.started": "2022-12-08T03:37:40.290776Z"
    }
   },
   "outputs": [
    {
     "name": "stdout",
     "output_type": "stream",
     "text": [
      "313/313 [==============================] - 3s 7ms/step - loss: 1.6890 - accuracy: 0.6565\n"
     ]
    },
    {
     "data": {
      "text/plain": [
       "[1.688958764076233, 0.656499981880188]"
      ]
     },
     "execution_count": 12,
     "metadata": {},
     "output_type": "execute_result"
    }
   ],
   "source": [
    "AlexNet.evaluate(x_test, y_test)"
   ]
  },
  {
   "cell_type": "code",
   "execution_count": 13,
   "metadata": {
    "execution": {
     "iopub.execute_input": "2022-12-08T03:38:15.849811Z",
     "iopub.status.busy": "2022-12-08T03:38:15.849435Z",
     "iopub.status.idle": "2022-12-08T03:38:16.216062Z",
     "shell.execute_reply": "2022-12-08T03:38:16.214991Z",
     "shell.execute_reply.started": "2022-12-08T03:38:15.849780Z"
    }
   },
   "outputs": [],
   "source": [
    "AlexNet.save('AlexNet_e100.h5')"
   ]
  },
  {
   "cell_type": "code",
   "execution_count": null,
   "metadata": {},
   "outputs": [],
   "source": []
  }
 ],
 "metadata": {
  "kernelspec": {
   "display_name": "Python 3 (ipykernel)",
   "language": "python",
   "name": "python3"
  },
  "language_info": {
   "codemirror_mode": {
    "name": "ipython",
    "version": 3
   },
   "file_extension": ".py",
   "mimetype": "text/x-python",
   "name": "python",
   "nbconvert_exporter": "python",
   "pygments_lexer": "ipython3",
   "version": "3.9.13"
  },
  "widgets": {
   "application/vnd.jupyter.widget-state+json": {
    "state": {},
    "version_major": 2,
    "version_minor": 0
   }
  }
 },
 "nbformat": 4,
 "nbformat_minor": 4
}
