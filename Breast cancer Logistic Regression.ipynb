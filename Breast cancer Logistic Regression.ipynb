{
 "cells": [
  {
   "cell_type": "code",
   "execution_count": 38,
   "metadata": {
    "id": "E9GdjhlU1cyo",
    "tags": []
   },
   "outputs": [],
   "source": [
    "import pandas as pd\n",
    "from sklearn.datasets import load_breast_cancer\n",
    "import numpy as np\n",
    "from numpy import log,dot,exp,shape\n",
    "import matplotlib.pyplot as plt\n",
    "from sklearn.model_selection import train_test_split  \n",
    "from tensorflow.keras import utils as np_utils\n",
    "from keras.utils import to_categorical"
   ]
  },
  {
   "cell_type": "code",
   "execution_count": 39,
   "metadata": {
    "id": "JPWf57Tj-Z1h"
   },
   "outputs": [],
   "source": [
    "np.random.seed(42)"
   ]
  },
  {
   "cell_type": "code",
   "execution_count": 40,
   "metadata": {
    "id": "A8X-vWgjjm3C"
   },
   "outputs": [
    {
     "data": {
      "text/html": [
       "<div>\n",
       "<style scoped>\n",
       "    .dataframe tbody tr th:only-of-type {\n",
       "        vertical-align: middle;\n",
       "    }\n",
       "\n",
       "    .dataframe tbody tr th {\n",
       "        vertical-align: top;\n",
       "    }\n",
       "\n",
       "    .dataframe thead th {\n",
       "        text-align: right;\n",
       "    }\n",
       "</style>\n",
       "<table border=\"1\" class=\"dataframe\">\n",
       "  <thead>\n",
       "    <tr style=\"text-align: right;\">\n",
       "      <th></th>\n",
       "      <th>mean radius</th>\n",
       "      <th>mean texture</th>\n",
       "      <th>mean perimeter</th>\n",
       "      <th>mean area</th>\n",
       "      <th>mean smoothness</th>\n",
       "      <th>mean compactness</th>\n",
       "      <th>mean concavity</th>\n",
       "      <th>mean concave points</th>\n",
       "      <th>mean symmetry</th>\n",
       "      <th>mean fractal dimension</th>\n",
       "      <th>...</th>\n",
       "      <th>worst radius</th>\n",
       "      <th>worst texture</th>\n",
       "      <th>worst perimeter</th>\n",
       "      <th>worst area</th>\n",
       "      <th>worst smoothness</th>\n",
       "      <th>worst compactness</th>\n",
       "      <th>worst concavity</th>\n",
       "      <th>worst concave points</th>\n",
       "      <th>worst symmetry</th>\n",
       "      <th>worst fractal dimension</th>\n",
       "    </tr>\n",
       "  </thead>\n",
       "  <tbody>\n",
       "    <tr>\n",
       "      <th>0</th>\n",
       "      <td>17.99</td>\n",
       "      <td>10.38</td>\n",
       "      <td>122.80</td>\n",
       "      <td>1001.0</td>\n",
       "      <td>0.11840</td>\n",
       "      <td>0.27760</td>\n",
       "      <td>0.3001</td>\n",
       "      <td>0.14710</td>\n",
       "      <td>0.2419</td>\n",
       "      <td>0.07871</td>\n",
       "      <td>...</td>\n",
       "      <td>25.38</td>\n",
       "      <td>17.33</td>\n",
       "      <td>184.60</td>\n",
       "      <td>2019.0</td>\n",
       "      <td>0.1622</td>\n",
       "      <td>0.6656</td>\n",
       "      <td>0.7119</td>\n",
       "      <td>0.2654</td>\n",
       "      <td>0.4601</td>\n",
       "      <td>0.11890</td>\n",
       "    </tr>\n",
       "    <tr>\n",
       "      <th>1</th>\n",
       "      <td>20.57</td>\n",
       "      <td>17.77</td>\n",
       "      <td>132.90</td>\n",
       "      <td>1326.0</td>\n",
       "      <td>0.08474</td>\n",
       "      <td>0.07864</td>\n",
       "      <td>0.0869</td>\n",
       "      <td>0.07017</td>\n",
       "      <td>0.1812</td>\n",
       "      <td>0.05667</td>\n",
       "      <td>...</td>\n",
       "      <td>24.99</td>\n",
       "      <td>23.41</td>\n",
       "      <td>158.80</td>\n",
       "      <td>1956.0</td>\n",
       "      <td>0.1238</td>\n",
       "      <td>0.1866</td>\n",
       "      <td>0.2416</td>\n",
       "      <td>0.1860</td>\n",
       "      <td>0.2750</td>\n",
       "      <td>0.08902</td>\n",
       "    </tr>\n",
       "    <tr>\n",
       "      <th>2</th>\n",
       "      <td>19.69</td>\n",
       "      <td>21.25</td>\n",
       "      <td>130.00</td>\n",
       "      <td>1203.0</td>\n",
       "      <td>0.10960</td>\n",
       "      <td>0.15990</td>\n",
       "      <td>0.1974</td>\n",
       "      <td>0.12790</td>\n",
       "      <td>0.2069</td>\n",
       "      <td>0.05999</td>\n",
       "      <td>...</td>\n",
       "      <td>23.57</td>\n",
       "      <td>25.53</td>\n",
       "      <td>152.50</td>\n",
       "      <td>1709.0</td>\n",
       "      <td>0.1444</td>\n",
       "      <td>0.4245</td>\n",
       "      <td>0.4504</td>\n",
       "      <td>0.2430</td>\n",
       "      <td>0.3613</td>\n",
       "      <td>0.08758</td>\n",
       "    </tr>\n",
       "    <tr>\n",
       "      <th>3</th>\n",
       "      <td>11.42</td>\n",
       "      <td>20.38</td>\n",
       "      <td>77.58</td>\n",
       "      <td>386.1</td>\n",
       "      <td>0.14250</td>\n",
       "      <td>0.28390</td>\n",
       "      <td>0.2414</td>\n",
       "      <td>0.10520</td>\n",
       "      <td>0.2597</td>\n",
       "      <td>0.09744</td>\n",
       "      <td>...</td>\n",
       "      <td>14.91</td>\n",
       "      <td>26.50</td>\n",
       "      <td>98.87</td>\n",
       "      <td>567.7</td>\n",
       "      <td>0.2098</td>\n",
       "      <td>0.8663</td>\n",
       "      <td>0.6869</td>\n",
       "      <td>0.2575</td>\n",
       "      <td>0.6638</td>\n",
       "      <td>0.17300</td>\n",
       "    </tr>\n",
       "    <tr>\n",
       "      <th>4</th>\n",
       "      <td>20.29</td>\n",
       "      <td>14.34</td>\n",
       "      <td>135.10</td>\n",
       "      <td>1297.0</td>\n",
       "      <td>0.10030</td>\n",
       "      <td>0.13280</td>\n",
       "      <td>0.1980</td>\n",
       "      <td>0.10430</td>\n",
       "      <td>0.1809</td>\n",
       "      <td>0.05883</td>\n",
       "      <td>...</td>\n",
       "      <td>22.54</td>\n",
       "      <td>16.67</td>\n",
       "      <td>152.20</td>\n",
       "      <td>1575.0</td>\n",
       "      <td>0.1374</td>\n",
       "      <td>0.2050</td>\n",
       "      <td>0.4000</td>\n",
       "      <td>0.1625</td>\n",
       "      <td>0.2364</td>\n",
       "      <td>0.07678</td>\n",
       "    </tr>\n",
       "  </tbody>\n",
       "</table>\n",
       "<p>5 rows × 30 columns</p>\n",
       "</div>"
      ],
      "text/plain": [
       "   mean radius  mean texture  mean perimeter  mean area  mean smoothness  \\\n",
       "0        17.99         10.38          122.80     1001.0          0.11840   \n",
       "1        20.57         17.77          132.90     1326.0          0.08474   \n",
       "2        19.69         21.25          130.00     1203.0          0.10960   \n",
       "3        11.42         20.38           77.58      386.1          0.14250   \n",
       "4        20.29         14.34          135.10     1297.0          0.10030   \n",
       "\n",
       "   mean compactness  mean concavity  mean concave points  mean symmetry  \\\n",
       "0           0.27760          0.3001              0.14710         0.2419   \n",
       "1           0.07864          0.0869              0.07017         0.1812   \n",
       "2           0.15990          0.1974              0.12790         0.2069   \n",
       "3           0.28390          0.2414              0.10520         0.2597   \n",
       "4           0.13280          0.1980              0.10430         0.1809   \n",
       "\n",
       "   mean fractal dimension  ...  worst radius  worst texture  worst perimeter  \\\n",
       "0                 0.07871  ...         25.38          17.33           184.60   \n",
       "1                 0.05667  ...         24.99          23.41           158.80   \n",
       "2                 0.05999  ...         23.57          25.53           152.50   \n",
       "3                 0.09744  ...         14.91          26.50            98.87   \n",
       "4                 0.05883  ...         22.54          16.67           152.20   \n",
       "\n",
       "   worst area  worst smoothness  worst compactness  worst concavity  \\\n",
       "0      2019.0            0.1622             0.6656           0.7119   \n",
       "1      1956.0            0.1238             0.1866           0.2416   \n",
       "2      1709.0            0.1444             0.4245           0.4504   \n",
       "3       567.7            0.2098             0.8663           0.6869   \n",
       "4      1575.0            0.1374             0.2050           0.4000   \n",
       "\n",
       "   worst concave points  worst symmetry  worst fractal dimension  \n",
       "0                0.2654          0.4601                  0.11890  \n",
       "1                0.1860          0.2750                  0.08902  \n",
       "2                0.2430          0.3613                  0.08758  \n",
       "3                0.2575          0.6638                  0.17300  \n",
       "4                0.1625          0.2364                  0.07678  \n",
       "\n",
       "[5 rows x 30 columns]"
      ]
     },
     "execution_count": 40,
     "metadata": {},
     "output_type": "execute_result"
    }
   ],
   "source": [
    "cancer = load_breast_cancer()\n",
    "df = pd.DataFrame(cancer.data,columns=cancer.feature_names)\n",
    "df.head()"
   ]
  },
  {
   "cell_type": "code",
   "execution_count": 41,
   "metadata": {
    "id": "qB7DQ9Zho73S"
   },
   "outputs": [
    {
     "data": {
      "text/plain": [
       "Index(['mean radius', 'mean texture', 'mean perimeter', 'mean area',\n",
       "       'mean smoothness', 'mean compactness', 'mean concavity',\n",
       "       'mean concave points', 'mean symmetry', 'mean fractal dimension',\n",
       "       'radius error', 'texture error', 'perimeter error', 'area error',\n",
       "       'smoothness error', 'compactness error', 'concavity error',\n",
       "       'concave points error', 'symmetry error', 'fractal dimension error',\n",
       "       'worst radius', 'worst texture', 'worst perimeter', 'worst area',\n",
       "       'worst smoothness', 'worst compactness', 'worst concavity',\n",
       "       'worst concave points', 'worst symmetry', 'worst fractal dimension'],\n",
       "      dtype='object')"
      ]
     },
     "execution_count": 41,
     "metadata": {},
     "output_type": "execute_result"
    }
   ],
   "source": [
    "df.columns"
   ]
  },
  {
   "cell_type": "code",
   "execution_count": 42,
   "metadata": {
    "colab": {
     "base_uri": "https://localhost:8080/"
    },
    "id": "SLP8D3Vtjub4",
    "outputId": "26f1ad6a-de7a-4409-f715-4f70f2580ef9"
   },
   "outputs": [
    {
     "name": "stdout",
     "output_type": "stream",
     "text": [
      "(569, 30)\n",
      "mean radius                0\n",
      "mean texture               0\n",
      "mean perimeter             0\n",
      "mean area                  0\n",
      "mean smoothness            0\n",
      "mean compactness           0\n",
      "mean concavity             0\n",
      "mean concave points        0\n",
      "mean symmetry              0\n",
      "mean fractal dimension     0\n",
      "radius error               0\n",
      "texture error              0\n",
      "perimeter error            0\n",
      "area error                 0\n",
      "smoothness error           0\n",
      "compactness error          0\n",
      "concavity error            0\n",
      "concave points error       0\n",
      "symmetry error             0\n",
      "fractal dimension error    0\n",
      "worst radius               0\n",
      "worst texture              0\n",
      "worst perimeter            0\n",
      "worst area                 0\n",
      "worst smoothness           0\n",
      "worst compactness          0\n",
      "worst concavity            0\n",
      "worst concave points       0\n",
      "worst symmetry             0\n",
      "worst fractal dimension    0\n",
      "dtype: int64\n"
     ]
    }
   ],
   "source": [
    "print(df.shape)\n",
    "print(df.isnull().sum())"
   ]
  },
  {
   "cell_type": "code",
   "execution_count": 43,
   "metadata": {
    "id": "Meh8lx7Mj1nB"
   },
   "outputs": [],
   "source": [
    "X = df\n",
    "y = pd.Series(cancer.target)"
   ]
  },
  {
   "cell_type": "code",
   "execution_count": 44,
   "metadata": {
    "id": "Ze3RrZKjj67o"
   },
   "outputs": [],
   "source": [
    "X_train, X_test, y_train, y_test = train_test_split(X, y, test_size=0.20, shuffle=True, random_state=42)"
   ]
  },
  {
   "cell_type": "code",
   "execution_count": 45,
   "metadata": {
    "id": "3qw3h0RWj_c_"
   },
   "outputs": [],
   "source": [
    "X_train=np.array(X_train)\n",
    "X_test=np.array(X_test)\n",
    "y_train=np.array(y_train)\n",
    "y_test=np.array(y_test)"
   ]
  },
  {
   "cell_type": "markdown",
   "metadata": {
    "id": "Y0G3FT9oMLrV"
   },
   "source": [
    "n = of features shape(X)[1] nuber cols\n",
    "m = samples size shape(X)[0] number of rows"
   ]
  },
  {
   "cell_type": "code",
   "execution_count": 46,
   "metadata": {},
   "outputs": [],
   "source": [
    "def initial_theta(a,bias=1.0):\n",
    "  #initial it by 0\n",
    "    th = list(map(lambda x: 0.0, range(a)))\n",
    "    return np.array(th)\n",
    "\n",
    "def sigmoid(z):\n",
    "    return 1.0 / (1 + np.exp(-z))\n",
    "def hypothesis(x, t):\n",
    "    z = np.matmul(x, t)\n",
    "    return sigmoid(z)\n"
   ]
  },
  {
   "cell_type": "code",
   "execution_count": 47,
   "metadata": {},
   "outputs": [],
   "source": [
    "theta = initial_theta(len(X_train[0]))\n",
    "hypthesis = hypothesis(X_train,theta)"
   ]
  },
  {
   "cell_type": "markdown",
   "metadata": {
    "id": "NAg1i3kOQNv-"
   },
   "source": [
    "The formula gives the cost function for the logistic regression.\n",
    "Where hx = is the sigmoid function we used earlier.\n"
   ]
  },
  {
   "cell_type": "markdown",
   "metadata": {
    "id": "Wd_UPPVLQZTd"
   },
   "source": [
    "![image.png](data:image/png;base64,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)"
   ]
  },
  {
   "cell_type": "code",
   "execution_count": 48,
   "metadata": {
    "id": "pkM-hSuKbs0Q"
   },
   "outputs": [],
   "source": [
    "def cost_function(x, y, t,m):\n",
    "    h = hypothesis(x, t)\n",
    "    left_cost = -y * np.log(h)\n",
    "    right_cost = (1.0-y) * np.log(1.0-h)\n",
    "    cost = left_cost - right_cost\n",
    "    cost = cost.sum() / m\n",
    "    return cost"
   ]
  },
  {
   "cell_type": "markdown",
   "metadata": {
    "id": "-_RhC_HjTkUt"
   },
   "source": [
    "# Step 5: Fitting the Algorithm using Gradient Descent "
   ]
  },
  {
   "cell_type": "markdown",
   "metadata": {
    "id": "dpa5PSFnT1bq"
   },
   "source": [
    "Gradient descent is an optimization algorithm that is responsible for the learning of best-fitting parameters. So what are the gradients? The gradients are the vector of the 1st order derivative of the cost function. These are the direction of the steepest ascent or maximum of a function. For gradient descent, we move in the opposite direction of the gradients. We will be updating the weights in every iteration until the convergence."
   ]
  },
  {
   "cell_type": "markdown",
   "metadata": {
    "id": "zNMpv6MagAAR"
   },
   "source": [
    "![image.png](data:image/png;base64,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)"
   ]
  },
  {
   "cell_type": "code",
   "execution_count": 49,
   "metadata": {},
   "outputs": [],
   "source": [
    "def update_weights_GD(x, y, t, lr, m):\n",
    "    h = hypothesis(x, t)\n",
    "    gradient = np.matmul(x.T,h - y)\n",
    "    gradient /= m\n",
    "    gradient *= lr\n",
    "    t -= gradient\n",
    "    return t\n",
    "\n",
    "def train(x, y, t, lr, iters,m):\n",
    "    cost_history = []\n",
    "    for i in range(iters):\n",
    "        t = update_weights_GD(x, y, t, lr,m)\n",
    "        cost = cost_function(x, y, t,m)\n",
    "    return t"
   ]
  },
  {
   "cell_type": "code",
   "execution_count": 50,
   "metadata": {
    "tags": []
   },
   "outputs": [
    {
     "name": "stderr",
     "output_type": "stream",
     "text": [
      "/tmp/ipykernel_26605/2420616136.py:7: RuntimeWarning: overflow encountered in exp\n",
      "  return 1.0 / (1 + np.exp(-z))\n",
      "/tmp/ipykernel_26605/3459852782.py:3: RuntimeWarning: divide by zero encountered in log\n",
      "  left_cost = -y * np.log(h)\n",
      "/tmp/ipykernel_26605/3459852782.py:3: RuntimeWarning: invalid value encountered in multiply\n",
      "  left_cost = -y * np.log(h)\n",
      "/tmp/ipykernel_26605/3459852782.py:4: RuntimeWarning: divide by zero encountered in log\n",
      "  right_cost = (1.0-y) * np.log(1.0-h)\n",
      "/tmp/ipykernel_26605/3459852782.py:4: RuntimeWarning: invalid value encountered in multiply\n",
      "  right_cost = (1.0-y) * np.log(1.0-h)\n"
     ]
    }
   ],
   "source": [
    "m,n = X_train.shape\n",
    "first_cost = cost_function(X_train,y_train,theta,m)\n",
    "newt= train(X_train,y_train,theta,0.01, 10000,m)"
   ]
  },
  {
   "cell_type": "code",
   "execution_count": 51,
   "metadata": {},
   "outputs": [
    {
     "data": {
      "text/plain": [
       "array([ 7.14923994e+00, -6.07763979e+00,  3.14577062e+01,  5.29394958e+00,\n",
       "       -7.67614573e-03, -3.37687316e-01, -5.47119823e-01, -2.13142081e-01,\n",
       "       -1.17271319e-02,  1.66456163e-02,  8.02702170e-02, -4.07846205e-02,\n",
       "       -1.26852779e+00, -1.32914886e+01, -6.38941065e-03, -8.56863012e-02,\n",
       "       -1.20678208e-01, -2.61684869e-02, -1.60768995e-02, -5.37783389e-03,\n",
       "        7.57475171e+00, -1.35085310e+01,  2.16575429e+01, -9.81879638e+00,\n",
       "       -6.09814079e-02, -1.19696288e+00, -1.57865507e+00, -3.92010775e-01,\n",
       "       -2.21441531e-01, -6.64156439e-02])"
      ]
     },
     "execution_count": 51,
     "metadata": {},
     "output_type": "execute_result"
    }
   ],
   "source": [
    "newt"
   ]
  },
  {
   "cell_type": "markdown",
   "metadata": {
    "id": "JcoBTkiUgQbP"
   },
   "source": [
    "the alpha is the step size responsible for how quick it converges to the global minimum. If the step size is too small, it will converge slowly, but if it is too large, it may overshoot the minimum while descending.\n",
    "By differentiating the cost function, we get the gradient descent expression"
   ]
  },
  {
   "cell_type": "markdown",
   "metadata": {
    "id": "l6oZmuMKrA9l",
    "jp-MarkdownHeadingCollapsed": true,
    "tags": []
   },
   "source": [
    "# Step 6: Prediction"
   ]
  },
  {
   "cell_type": "markdown",
   "metadata": {
    "id": "XCPdAY0SgRev"
   },
   "source": [
    "![image.png](data:image/png;base64,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)"
   ]
  },
  {
   "cell_type": "code",
   "execution_count": 52,
   "metadata": {},
   "outputs": [],
   "source": [
    "def predict(X_test,theta):\n",
    "  y_pred=[]\n",
    "  for x in X_test:\n",
    "    y_pred.append(int(hypothesis(x, theta)))\n",
    "  return y_pred\n",
    "\n",
    "def accuracy(preds,test):\n",
    "  acc=0\n",
    "  for i,j in zip(preds,test):\n",
    "    if i==j:\n",
    "      acc+=1\n",
    "    else:\n",
    "      continue\n",
    "  return acc/len(test)"
   ]
  },
  {
   "cell_type": "code",
   "execution_count": 53,
   "metadata": {
    "tags": []
   },
   "outputs": [
    {
     "name": "stderr",
     "output_type": "stream",
     "text": [
      "/tmp/ipykernel_26605/2420616136.py:7: RuntimeWarning: overflow encountered in exp\n",
      "  return 1.0 / (1 + np.exp(-z))\n"
     ]
    }
   ],
   "source": [
    "y_preds=predict(X_test,newt)\n"
   ]
  },
  {
   "cell_type": "code",
   "execution_count": 54,
   "metadata": {},
   "outputs": [
    {
     "name": "stdout",
     "output_type": "stream",
     "text": [
      "Accuracy:  0.956140350877193\n"
     ]
    }
   ],
   "source": [
    "print('Accuracy: ',accuracy(y_preds,y_test))"
   ]
  },
  {
   "cell_type": "code",
   "execution_count": 55,
   "metadata": {
    "colab": {
     "base_uri": "https://localhost:8080/",
     "height": 336
    },
    "id": "NaAX8rzPm7EO",
    "outputId": "965afdc9-bb0c-4010-ea54-5f30f9d9ac16"
   },
   "outputs": [
    {
     "name": "stdout",
     "output_type": "stream",
     "text": [
      "\n",
      "Confusion Matrix\n"
     ]
    },
    {
     "data": {
      "text/plain": [
       "Text(50.722222222222214, 0.5, 'True')"
      ]
     },
     "execution_count": 55,
     "metadata": {},
     "output_type": "execute_result"
    },
    {
     "data": {
      "image/png": "[encoded data removed]",
      "text/plain": [
       "<Figure size 640x480 with 2 Axes>"
      ]
     },
     "metadata": {},
     "output_type": "display_data"
    }
   ],
   "source": [
    "import seaborn as sns\n",
    "import matplotlib.pyplot as plt\n",
    "from sklearn.metrics import confusion_matrix\n",
    "cf_matrix = confusion_matrix(y_preds, y_test)\n",
    "print(\"\\nConfusion Matrix\")\n",
    "sns.heatmap(cf_matrix, annot=True, cmap='Blues')\n",
    "plt.xlabel('Predicted', fontsize=12)\n",
    "plt.ylabel('True', fontsize=12)"
   ]
  }
 ],
 "metadata": {
  "accelerator": "GPU",
  "colab": {
   "provenance": []
  },
  "gpuClass": "standard",
  "kernelspec": {
   "display_name": "Python 3 (ipykernel)",
   "language": "python",
   "name": "python3"
  },
  "language_info": {
   "codemirror_mode": {
    "name": "ipython",
    "version": 3
   },
   "file_extension": ".py",
   "mimetype": "text/x-python",
   "name": "python",
   "nbconvert_exporter": "python",
   "pygments_lexer": "ipython3",
   "version": "3.9.13"
  }
 },
 "nbformat": 4,
 "nbformat_minor": 4
}
